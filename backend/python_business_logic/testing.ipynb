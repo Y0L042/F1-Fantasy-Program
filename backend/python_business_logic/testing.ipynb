{
 "cells": [
  {
   "cell_type": "code",
   "execution_count": 1,
   "metadata": {},
   "outputs": [],
   "source": [
    "from datetime import datetime\n",
    "import fastf1\n",
    "import pandas as pd\n"
   ]
  },
  {
   "cell_type": "code",
   "execution_count": 2,
   "metadata": {},
   "outputs": [],
   "source": [
    "\n",
    "# Function to check if the latest race has been loaded\n",
    "def has_latest_race_been_loaded(season, round_number):\n",
    "    try:\n",
    "        with open(\"loaded_races.txt\", \"r\") as file:\n",
    "            content = file.read()\n",
    "            return f\"{season}-{round_number}\" in content\n",
    "    except FileNotFoundError:\n",
    "        return False\n"
   ]
  },
  {
   "cell_type": "code",
   "execution_count": 3,
   "metadata": {},
   "outputs": [],
   "source": [
    "\n",
    "# Function to update the loaded races file\n",
    "def update_loaded_races(season, round_number):\n",
    "    with open(\"loaded_races.txt\", \"a\") as file:\n",
    "        file.write(f\"{season}-{round_number}\\n\")\n"
   ]
  },
  {
   "cell_type": "code",
   "execution_count": 15,
   "metadata": {},
   "outputs": [],
   "source": [
    "def extract_from_fastf1():\n",
    "    # Enable cache\n",
    "    fastf1.Cache.enable_cache('cache')\n",
    "\n",
    "    # Get completed events for a specific season\n",
    "    season = 2023\n",
    "    schedule = fastf1.get_event_schedule(season)\n",
    "    completed_events = [schedule.iloc[[event]] for event in schedule['RoundNumber'][1:] if schedule['EventDate'][event] < datetime.now()]\n",
    "\n",
    "    # Get the latest completed event\n",
    "    latest_event = completed_events[-1]\n",
    "    round_number = latest_event['RoundNumber'].values[0]\n",
    "\n",
    "    # Check if the latest race has been loaded\n",
    "    if not has_latest_race_been_loaded(season, round_number):\n",
    "        # Load the latest race data\n",
    "        session_type = 'R'\n",
    "        df_session = fastf1.get_session(season, round_number, session_type)\n",
    "        df_session.load()\n",
    "\n",
    "        print(\"Latest race data loaded\")\n",
    "\n",
    "        # Save the latest race data to a CSV file\n",
    "        csv_filename = f\"race_data_{season}_round_{round_number}.csv\"\n",
    "        df_session.results.to_csv(csv_filename, index=False)\n",
    "        print(f\"Latest race data saved to {csv_filename}\")\n",
    "\n",
    "        # Update the loaded races file\n",
    "        update_loaded_races(season, round_number)\n",
    "\n",
    "        return df_session.results\n",
    "\n",
    "    else:\n",
    "        print(\"Latest race has already been loaded\")\n",
    "        \n",
    "        return -1\n"
   ]
  },
  {
   "cell_type": "code",
   "execution_count": null,
   "metadata": {},
   "outputs": [],
   "source": [
    "extract_from_fastf1()"
   ]
  },
  {
   "cell_type": "code",
   "execution_count": 29,
   "metadata": {},
   "outputs": [],
   "source": [
    "def get_fastest_laps_for_race(season, round_number):\n",
    "    session_type = 'R'\n",
    "    df_session = fastf1.get_session(season, round_number, session_type)\n",
    "    df_session.load()\n",
    "    \n",
    "    # Group by driver and get the minimum lap time\n",
    "    fastest_laps = df_session.laps.groupby('Driver')['LapTime'].min().reset_index()\n",
    "    \n",
    "    # Get the driver with the fastest lap time and their lap time\n",
    "    fastest_driver = fastest_laps.loc[fastest_laps['LapTime'].idxmin()]\n",
    "    \n",
    "    # Create a dataframe with the fastest driver and their lap time\n",
    "    df = pd.DataFrame({'driver': fastest_driver['Driver'], 'fastest_lap': fastest_driver['LapTime']}, index=[0])\n",
    "\n",
    "    return df\n",
    "\n"
   ]
  },
  {
   "cell_type": "code",
   "execution_count": 31,
   "metadata": {},
   "outputs": [
    {
     "name": "stderr",
     "output_type": "stream",
     "text": [
      "core           INFO \tLoading data for Australian Grand Prix - Race [v2.3.1]\n",
      "api            INFO \tUsing cached data for driver_info\n",
      "api            INFO \tUsing cached data for timing_data\n",
      "api            INFO \tUsing cached data for timing_app_data\n",
      "core           INFO \tProcessing timing data...\n",
      "api            INFO \tUsing cached data for session_status_data\n",
      "api            INFO \tUsing cached data for track_status_data\n"
     ]
    },
    {
     "name": "stdout",
     "output_type": "stream",
     "text": [
      "Starting\n"
     ]
    },
    {
     "name": "stderr",
     "output_type": "stream",
     "text": [
      "c:\\Users\\vlamf\\Coding\\anaconda3\\lib\\site-packages\\fastf1\\core.py:1415: FutureWarning: In a future version, object-dtype columns with all-bool values will not be included in reductions with bool_only=True. Explicitly cast to bool dtype instead.\n",
      "  df = pd.concat([df, result], sort=False)\n",
      "c:\\Users\\vlamf\\Coding\\anaconda3\\lib\\site-packages\\fastf1\\core.py:1415: FutureWarning: In a future version, object-dtype columns with all-bool values will not be included in reductions with bool_only=True. Explicitly cast to bool dtype instead.\n",
      "  df = pd.concat([df, result], sort=False)\n",
      "c:\\Users\\vlamf\\Coding\\anaconda3\\lib\\site-packages\\fastf1\\core.py:1415: FutureWarning: In a future version, object-dtype columns with all-bool values will not be included in reductions with bool_only=True. Explicitly cast to bool dtype instead.\n",
      "  df = pd.concat([df, result], sort=False)\n",
      "c:\\Users\\vlamf\\Coding\\anaconda3\\lib\\site-packages\\fastf1\\core.py:1492: FutureWarning: iteritems is deprecated and will be removed in a future version. Use .items instead.\n",
      "  for key, value in row.iteritems():\n",
      "c:\\Users\\vlamf\\Coding\\anaconda3\\lib\\site-packages\\fastf1\\core.py:1415: FutureWarning: In a future version, object-dtype columns with all-bool values will not be included in reductions with bool_only=True. Explicitly cast to bool dtype instead.\n",
      "  df = pd.concat([df, result], sort=False)\n",
      "c:\\Users\\vlamf\\Coding\\anaconda3\\lib\\site-packages\\fastf1\\core.py:1415: FutureWarning: In a future version, object-dtype columns with all-bool values will not be included in reductions with bool_only=True. Explicitly cast to bool dtype instead.\n",
      "  df = pd.concat([df, result], sort=False)\n",
      "c:\\Users\\vlamf\\Coding\\anaconda3\\lib\\site-packages\\fastf1\\core.py:1492: FutureWarning: iteritems is deprecated and will be removed in a future version. Use .items instead.\n",
      "  for key, value in row.iteritems():\n",
      "c:\\Users\\vlamf\\Coding\\anaconda3\\lib\\site-packages\\fastf1\\core.py:1415: FutureWarning: In a future version, object-dtype columns with all-bool values will not be included in reductions with bool_only=True. Explicitly cast to bool dtype instead.\n",
      "  df = pd.concat([df, result], sort=False)\n",
      "c:\\Users\\vlamf\\Coding\\anaconda3\\lib\\site-packages\\fastf1\\core.py:1492: FutureWarning: iteritems is deprecated and will be removed in a future version. Use .items instead.\n",
      "  for key, value in row.iteritems():\n",
      "c:\\Users\\vlamf\\Coding\\anaconda3\\lib\\site-packages\\fastf1\\core.py:1415: FutureWarning: In a future version, object-dtype columns with all-bool values will not be included in reductions with bool_only=True. Explicitly cast to bool dtype instead.\n",
      "  df = pd.concat([df, result], sort=False)\n",
      "c:\\Users\\vlamf\\Coding\\anaconda3\\lib\\site-packages\\fastf1\\core.py:1492: FutureWarning: iteritems is deprecated and will be removed in a future version. Use .items instead.\n",
      "  for key, value in row.iteritems():\n",
      "c:\\Users\\vlamf\\Coding\\anaconda3\\lib\\site-packages\\fastf1\\core.py:1415: FutureWarning: In a future version, object-dtype columns with all-bool values will not be included in reductions with bool_only=True. Explicitly cast to bool dtype instead.\n",
      "  df = pd.concat([df, result], sort=False)\n",
      "c:\\Users\\vlamf\\Coding\\anaconda3\\lib\\site-packages\\fastf1\\core.py:1415: FutureWarning: In a future version, object-dtype columns with all-bool values will not be included in reductions with bool_only=True. Explicitly cast to bool dtype instead.\n",
      "  df = pd.concat([df, result], sort=False)\n",
      "c:\\Users\\vlamf\\Coding\\anaconda3\\lib\\site-packages\\fastf1\\core.py:1492: FutureWarning: iteritems is deprecated and will be removed in a future version. Use .items instead.\n",
      "  for key, value in row.iteritems():\n",
      "c:\\Users\\vlamf\\Coding\\anaconda3\\lib\\site-packages\\fastf1\\core.py:1415: FutureWarning: In a future version, object-dtype columns with all-bool values will not be included in reductions with bool_only=True. Explicitly cast to bool dtype instead.\n",
      "  df = pd.concat([df, result], sort=False)\n",
      "c:\\Users\\vlamf\\Coding\\anaconda3\\lib\\site-packages\\fastf1\\core.py:1415: FutureWarning: In a future version, object-dtype columns with all-bool values will not be included in reductions with bool_only=True. Explicitly cast to bool dtype instead.\n",
      "  df = pd.concat([df, result], sort=False)\n",
      "c:\\Users\\vlamf\\Coding\\anaconda3\\lib\\site-packages\\fastf1\\core.py:1492: FutureWarning: iteritems is deprecated and will be removed in a future version. Use .items instead.\n",
      "  for key, value in row.iteritems():\n",
      "c:\\Users\\vlamf\\Coding\\anaconda3\\lib\\site-packages\\fastf1\\core.py:1411: FutureWarning: The frame.append method is deprecated and will be removed from pandas in a future version. Use pandas.concat instead.\n",
      "  result = result.append(new_last).reset_index(drop=True)\n",
      "c:\\Users\\vlamf\\Coding\\anaconda3\\lib\\site-packages\\fastf1\\core.py:1415: FutureWarning: In a future version, object-dtype columns with all-bool values will not be included in reductions with bool_only=True. Explicitly cast to bool dtype instead.\n",
      "  df = pd.concat([df, result], sort=False)\n",
      "c:\\Users\\vlamf\\Coding\\anaconda3\\lib\\site-packages\\fastf1\\core.py:1492: FutureWarning: iteritems is deprecated and will be removed in a future version. Use .items instead.\n",
      "  for key, value in row.iteritems():\n",
      "c:\\Users\\vlamf\\Coding\\anaconda3\\lib\\site-packages\\fastf1\\core.py:1411: FutureWarning: The frame.append method is deprecated and will be removed from pandas in a future version. Use pandas.concat instead.\n",
      "  result = result.append(new_last).reset_index(drop=True)\n",
      "c:\\Users\\vlamf\\Coding\\anaconda3\\lib\\site-packages\\fastf1\\core.py:1415: FutureWarning: In a future version, object-dtype columns with all-bool values will not be included in reductions with bool_only=True. Explicitly cast to bool dtype instead.\n",
      "  df = pd.concat([df, result], sort=False)\n",
      "c:\\Users\\vlamf\\Coding\\anaconda3\\lib\\site-packages\\fastf1\\core.py:1492: FutureWarning: iteritems is deprecated and will be removed in a future version. Use .items instead.\n",
      "  for key, value in row.iteritems():\n",
      "c:\\Users\\vlamf\\Coding\\anaconda3\\lib\\site-packages\\fastf1\\core.py:1411: FutureWarning: The frame.append method is deprecated and will be removed from pandas in a future version. Use pandas.concat instead.\n",
      "  result = result.append(new_last).reset_index(drop=True)\n",
      "c:\\Users\\vlamf\\Coding\\anaconda3\\lib\\site-packages\\fastf1\\core.py:1415: FutureWarning: In a future version, object-dtype columns with all-bool values will not be included in reductions with bool_only=True. Explicitly cast to bool dtype instead.\n",
      "  df = pd.concat([df, result], sort=False)\n",
      "c:\\Users\\vlamf\\Coding\\anaconda3\\lib\\site-packages\\fastf1\\core.py:1411: FutureWarning: The frame.append method is deprecated and will be removed from pandas in a future version. Use pandas.concat instead.\n",
      "  result = result.append(new_last).reset_index(drop=True)\n",
      "c:\\Users\\vlamf\\Coding\\anaconda3\\lib\\site-packages\\fastf1\\core.py:1415: FutureWarning: In a future version, object-dtype columns with all-bool values will not be included in reductions with bool_only=True. Explicitly cast to bool dtype instead.\n",
      "  df = pd.concat([df, result], sort=False)\n",
      "c:\\Users\\vlamf\\Coding\\anaconda3\\lib\\site-packages\\fastf1\\core.py:1411: FutureWarning: The frame.append method is deprecated and will be removed from pandas in a future version. Use pandas.concat instead.\n",
      "  result = result.append(new_last).reset_index(drop=True)\n",
      "c:\\Users\\vlamf\\Coding\\anaconda3\\lib\\site-packages\\fastf1\\core.py:1415: FutureWarning: In a future version, object-dtype columns with all-bool values will not be included in reductions with bool_only=True. Explicitly cast to bool dtype instead.\n",
      "  df = pd.concat([df, result], sort=False)\n",
      "c:\\Users\\vlamf\\Coding\\anaconda3\\lib\\site-packages\\fastf1\\core.py:1411: FutureWarning: The frame.append method is deprecated and will be removed from pandas in a future version. Use pandas.concat instead.\n",
      "  result = result.append(new_last).reset_index(drop=True)\n",
      "c:\\Users\\vlamf\\Coding\\anaconda3\\lib\\site-packages\\fastf1\\core.py:1415: FutureWarning: In a future version, object-dtype columns with all-bool values will not be included in reductions with bool_only=True. Explicitly cast to bool dtype instead.\n",
      "  df = pd.concat([df, result], sort=False)\n",
      "c:\\Users\\vlamf\\Coding\\anaconda3\\lib\\site-packages\\fastf1\\core.py:1411: FutureWarning: The frame.append method is deprecated and will be removed from pandas in a future version. Use pandas.concat instead.\n",
      "  result = result.append(new_last).reset_index(drop=True)\n",
      "c:\\Users\\vlamf\\Coding\\anaconda3\\lib\\site-packages\\fastf1\\core.py:1415: FutureWarning: In a future version, object-dtype columns with all-bool values will not be included in reductions with bool_only=True. Explicitly cast to bool dtype instead.\n",
      "  df = pd.concat([df, result], sort=False)\n",
      "c:\\Users\\vlamf\\Coding\\anaconda3\\lib\\site-packages\\fastf1\\core.py:1415: FutureWarning: In a future version, object-dtype columns with all-bool values will not be included in reductions with bool_only=True. Explicitly cast to bool dtype instead.\n",
      "  df = pd.concat([df, result], sort=False)\n",
      "api            INFO \tUsing cached data for car_data\n",
      "api            INFO \tUsing cached data for position_data\n",
      "api            INFO \tUsing cached data for weather_data\n",
      "api            INFO \tUsing cached data for race_control_messages\n",
      "core           INFO \tFinished loading data for 20 drivers: ['1', '44', '14', '18', '11', '4', '27', '81', '24', '22', '77', '55', '10', '31', '21', '2', '20', '63', '23', '16']\n"
     ]
    },
    {
     "name": "stdout",
     "output_type": "stream",
     "text": [
      "  driver            fastest_lap\n",
      "0    PER 0 days 00:01:20.235000\n",
      "Finito\n"
     ]
    }
   ],
   "source": [
    "print('Starting')\n",
    "print(get_fastest_laps_for_race(2023, 3))\n",
    "print('Finito')"
   ]
  },
  {
   "cell_type": "code",
   "execution_count": null,
   "metadata": {},
   "outputs": [],
   "source": []
  }
 ],
 "metadata": {
  "kernelspec": {
   "display_name": "base",
   "language": "python",
   "name": "python3"
  },
  "language_info": {
   "codemirror_mode": {
    "name": "ipython",
    "version": 3
   },
   "file_extension": ".py",
   "mimetype": "text/x-python",
   "name": "python",
   "nbconvert_exporter": "python",
   "pygments_lexer": "ipython3",
   "version": "3.10.9"
  },
  "orig_nbformat": 4
 },
 "nbformat": 4,
 "nbformat_minor": 2
}
