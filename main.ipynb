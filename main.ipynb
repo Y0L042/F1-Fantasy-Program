{
 "cells": [
  {
   "cell_type": "markdown",
   "id": "f6402645-7e16-406b-b798-01cb6d63d8c8",
   "metadata": {},
   "source": [
    "# F1 Fantasy Program"
   ]
  },
  {
   "cell_type": "markdown",
   "id": "0ddf7bd9-28c2-440e-8eff-14c9e15df9e1",
   "metadata": {},
   "source": [
    "## ReadMe\n",
    "\n",
    "The goal of this program is to webscrape, and gather, F1 data. The data would then be saved, transformed, and analysed."
   ]
  },
  {
   "attachments": {},
   "cell_type": "markdown",
   "id": "c428dd45",
   "metadata": {},
   "source": [
    "# Imports"
   ]
  },
  {
   "attachments": {},
   "cell_type": "markdown",
   "id": "01b9e7b7",
   "metadata": {},
   "source": [
    "#### FastF1"
   ]
  },
  {
   "cell_type": "code",
   "execution_count": 1,
   "id": "3f5b3bfa-5a35-4ed8-a94e-38a2e2eb19d2",
   "metadata": {},
   "outputs": [],
   "source": [
    "from datetime import datetime\n",
    "from bs4 import BeautifulSoup\n",
    "import pandas as pd\n",
    "import requests\n",
    "import glob\n",
    "\n",
    "import fastf1"
   ]
  },
  {
   "cell_type": "code",
   "execution_count": 2,
   "id": "299a2c29",
   "metadata": {},
   "outputs": [],
   "source": [
    "from datetime import datetime"
   ]
  },
  {
   "attachments": {},
   "cell_type": "markdown",
   "id": "237855cd",
   "metadata": {},
   "source": [
    "#### MySQL"
   ]
  },
  {
   "cell_type": "code",
   "execution_count": 3,
   "id": "59e3bed4",
   "metadata": {},
   "outputs": [],
   "source": [
    "import mysql.connector\n",
    "import json"
   ]
  },
  {
   "cell_type": "code",
   "execution_count": 4,
   "id": "48de04ee",
   "metadata": {},
   "outputs": [],
   "source": [
    "import glob\n",
    "import csv"
   ]
  },
  {
   "cell_type": "markdown",
   "id": "b3cf2d64-c108-46f4-907b-aee072da55db",
   "metadata": {},
   "source": [
    "### Ignore Warnings"
   ]
  },
  {
   "cell_type": "code",
   "execution_count": 5,
   "id": "71df1cbd-a74d-4efb-b3a2-05483bbb2c63",
   "metadata": {},
   "outputs": [],
   "source": [
    "import warnings\n",
    "warnings.filterwarnings('ignore', category=FutureWarning)"
   ]
  },
  {
   "attachments": {},
   "cell_type": "markdown",
   "id": "c06f4ad3",
   "metadata": {},
   "source": [
    "# Global Variables & Settings"
   ]
  },
  {
   "attachments": {},
   "cell_type": "markdown",
   "id": "dfc43b1c-45db-49a4-849d-d2022e281d54",
   "metadata": {},
   "source": [
    "### Enable FastF1 Caching"
   ]
  },
  {
   "cell_type": "code",
   "execution_count": 6,
   "id": "f16b77f2-cd21-49d2-9ab9-16fae158bd08",
   "metadata": {},
   "outputs": [],
   "source": [
    "fastf1.Cache.enable_cache('cache')"
   ]
  },
  {
   "attachments": {},
   "cell_type": "markdown",
   "id": "af66db0d",
   "metadata": {},
   "source": [
    "### Loaded races logfile name"
   ]
  },
  {
   "cell_type": "code",
   "execution_count": 7,
   "id": "32a9bffd",
   "metadata": {},
   "outputs": [],
   "source": [
    "loaded_races_logfile = 'loaded_races_logfile.txt'"
   ]
  },
  {
   "attachments": {},
   "cell_type": "markdown",
   "id": "fb0a0bdd-edbc-41ee-8624-d333e30eba78",
   "metadata": {},
   "source": [
    "# FastF1 Data Aquisition"
   ]
  },
  {
   "attachments": {},
   "cell_type": "markdown",
   "id": "a8398f76-5516-4300-a5d9-5e0496f4525b",
   "metadata": {},
   "source": [
    "### Get the completed events (race weekends) of the season (year)"
   ]
  },
  {
   "cell_type": "code",
   "execution_count": 8,
   "id": "b3c4da87-d094-451f-9dfa-07098243c999",
   "metadata": {},
   "outputs": [],
   "source": [
    "def get_completed_events(season, b_print=False):\n",
    "    # Retrieve the event schedule for the given season using the fastf1 library\n",
    "    schedule = fastf1.get_event_schedule(season)\n",
    "    \n",
    "    # Initialize an empty list to store completed events\n",
    "    completed_events = []\n",
    "\n",
    "    # Loop through the round numbers in the event schedule, skipping the first one (index 0)\n",
    "    for event in schedule['RoundNumber'][1:]:\n",
    "        # Check if the event date is in the past (i.e., the event is completed)\n",
    "        if schedule['EventDate'][event] < datetime.now():\n",
    "            # Append the completed event to the completed_events list\n",
    "            completed_events.append(schedule.iloc[[event]])\n",
    "\n",
    "    # Return the list of completed events\n",
    "    return completed_events\n",
    "\t\n",
    "# Commented by GPT4"
   ]
  },
  {
   "attachments": {},
   "cell_type": "markdown",
   "id": "d473d5e6",
   "metadata": {},
   "source": [
    "### Get Amount of completed events of the season (year)"
   ]
  },
  {
   "cell_type": "code",
   "execution_count": 9,
   "id": "7dbc3f3c",
   "metadata": {},
   "outputs": [],
   "source": [
    "def get_completed_events_count(season):\n",
    "\tcount = len(get_completed_events(season))\n",
    "\treturn count"
   ]
  },
  {
   "cell_type": "markdown",
   "id": "b67041d4-3bfc-4b04-b9c5-15d228000df5",
   "metadata": {},
   "source": [
    "### Load the data of a completed session"
   ]
  },
  {
   "cell_type": "code",
   "execution_count": 10,
   "id": "8f35f08b-68ae-4cab-9fa4-21ad3a2639cc",
   "metadata": {},
   "outputs": [],
   "source": [
    "def get_session_data(season, event_num, session_type):\n",
    "    df_session = fastf1.get_session(season, event_num, session_type)\n",
    "    df_session.load()\n",
    "    return df_session"
   ]
  },
  {
   "cell_type": "markdown",
   "id": "a420ef02-901f-468a-986f-b694d58d2685",
   "metadata": {},
   "source": [
    "### Load the data of all the completed sessions"
   ]
  },
  {
   "cell_type": "code",
   "execution_count": 11,
   "id": "f474f19d-d4f0-4346-8b18-163129fd144f",
   "metadata": {},
   "outputs": [],
   "source": [
    "def get_completed_sessions(season, completed_events, session_type):\n",
    "    # Initialize an empty list to store completed sessions\n",
    "    completed_sessions = []\n",
    "\n",
    "    # Loop through the completed_events list, using the enumerate function to keep track of the index\n",
    "    for i, event in enumerate(completed_events):\n",
    "        # Get the session data for the current event and append it to the list of completed sessions\n",
    "        session = get_session_data(season, event['RoundNumber'], session_type)\n",
    "        completed_sessions.append(session)\n",
    "\n",
    "    # Return the list of completed sessions\n",
    "    return completed_sessions\n",
    "\n",
    "# commented by GPT3.5"
   ]
  },
  {
   "attachments": {},
   "cell_type": "markdown",
   "id": "ea4a3436",
   "metadata": {},
   "source": [
    "### Get All Completed Sessions' data"
   ]
  },
  {
   "cell_type": "code",
   "execution_count": 12,
   "id": "72295b8b-68ed-4c0f-b364-7116e9243eca",
   "metadata": {},
   "outputs": [],
   "source": [
    "def get_completed_sessions(season, completed_events, session_type):\n",
    "    # Returns a list of dataframes\n",
    "    completed_sessions = []\n",
    "\n",
    "    for event_df in completed_events:\n",
    "        for _, event in event_df.iterrows():\n",
    "            session = get_session_data(season, event['RoundNumber'], session_type)\n",
    "            completed_sessions.append(session)\n",
    "\n",
    "    return completed_sessions\n"
   ]
  },
  {
   "attachments": {},
   "cell_type": "markdown",
   "id": "2de62f9a",
   "metadata": {},
   "source": [
    "# Save to CSV file"
   ]
  },
  {
   "cell_type": "code",
   "execution_count": 13,
   "id": "39997bdc",
   "metadata": {},
   "outputs": [],
   "source": [
    "def save_to_csv(target_csv, data_to_load):\n",
    "    data_to_load.to_csv(target_csv) #, mode='a', header=False, index=False)"
   ]
  },
  {
   "attachments": {},
   "cell_type": "markdown",
   "id": "fa14d014-5a66-452c-b17e-0b099fc46e09",
   "metadata": {},
   "source": [
    "### Save sessions to csv (Outdated)"
   ]
  },
  {
   "cell_type": "code",
   "execution_count": 14,
   "id": "ca9d5a7f-575b-4e00-b210-9a3a182fe245",
   "metadata": {},
   "outputs": [],
   "source": [
    "def save_df_list_to_csv(dataframe_list, name=\"dataframe\"):\n",
    "    for i, dataframe in enumerate(dataframe_list):\n",
    "        file_name = name + '_' + str(i) + '.csv'\n",
    "        dataframe.to_csv(file_name)"
   ]
  },
  {
   "attachments": {},
   "cell_type": "markdown",
   "id": "bfa9a30d",
   "metadata": {},
   "source": [
    "### Log Loaded Race"
   ]
  },
  {
   "cell_type": "code",
   "execution_count": 15,
   "id": "c15a1836",
   "metadata": {},
   "outputs": [],
   "source": [
    "def log_loaded_race(race_number, loaded_races_logfile = 'loaded_races_logfile.txt'):\n",
    "\ttimestamp_format = '%Y-%h-%d-%H:%M:%S' #Year-Monthname-Day-Hour-Minute-Second\n",
    "\tnow = datetime.now()\n",
    "\ttimestamp = now.strftime(timestamp_format)\n",
    "\twith open(loaded_races_logfile, 'a') as log:\n",
    "\t\tlog.write(timestamp + ','+str(race_number)+'\\n')"
   ]
  },
  {
   "attachments": {},
   "cell_type": "markdown",
   "id": "abbfe434",
   "metadata": {},
   "source": [
    "### Read logfile"
   ]
  },
  {
   "cell_type": "code",
   "execution_count": 16,
   "id": "ca8b4db2",
   "metadata": {},
   "outputs": [],
   "source": [
    "def read_loaded_races_logfile(loaded_races_logfile = 'loaded_races_logfile.txt'):\n",
    "\tloaded_races = []\n",
    "\twith open(loaded_races_logfile, 'r') as log:\n",
    "\t\tfor line in log.readlines():\n",
    "\t\t\tprint(line)\n",
    "\t\t\tfields = line.strip().split(',')\n",
    "\t\t\tloaded_races.append(int(fields[1]))\n",
    "\t\n",
    "\treturn loaded_races"
   ]
  },
  {
   "attachments": {},
   "cell_type": "markdown",
   "id": "1f892ec0",
   "metadata": {},
   "source": [
    "### Find missing races"
   ]
  },
  {
   "cell_type": "code",
   "execution_count": 17,
   "id": "c28cae38",
   "metadata": {},
   "outputs": [],
   "source": [
    "def find_missing_races(races_list: list, season: int):\n",
    "\t# given a list of races, and the count of completed races, it finds the numbers that are missing\n",
    "\tif len(races_list) == 0:\n",
    "\t\traces_list = [0]\n",
    "\tmissing = set(range(min(races_list), get_completed_events_count(season)+1)) - set(races_list)\n",
    "\treturn list(missing)"
   ]
  },
  {
   "attachments": {},
   "cell_type": "markdown",
   "id": "d4836f3a",
   "metadata": {},
   "source": [
    "# Webscraping"
   ]
  },
  {
   "cell_type": "code",
   "execution_count": 18,
   "id": "07ce6cd1",
   "metadata": {},
   "outputs": [],
   "source": [
    "# url = 'https://www.f1fantasytracker.com/prices.html'  # replace with the URL of the website you want to scrape\n",
    "# response = requests.get(url)\n",
    "# soup = BeautifulSoup(response.content, 'html.parser')\n",
    "\n",
    "# current_price = soup.find('span', {'id': 'CurrentPrice1'}).text\n",
    "# season_price = soup.find('span', {'id': 'SeasonPrice1'}).text\n",
    "\n",
    "# print(current_price)\n",
    "# print(season_price)"
   ]
  },
  {
   "attachments": {},
   "cell_type": "markdown",
   "id": "2a459bf9-b94e-4e4c-8d55-04e1f220b5dd",
   "metadata": {},
   "source": [
    "# Extract Data, into CSV files"
   ]
  },
  {
   "cell_type": "code",
   "execution_count": 19,
   "id": "8db6afe3-c642-4446-8e30-d1de3b1c5a2a",
   "metadata": {},
   "outputs": [],
   "source": [
    "def extract_data_into_csv(season=2023, session_type='R'):\n",
    "\tevent_number = 0\n",
    "\n",
    "\tloaded_races = read_loaded_races_logfile()\n",
    "\t# print(loaded_races)\n",
    "\tmissing_races = find_missing_races(loaded_races, season)\n",
    "\t# print(missing_races)\n",
    "\n",
    "\traces_csv_folder = 'races_csv/'\n",
    "\tfor event_num in missing_races:\n",
    "\t\tsession = get_session_data(season, event_num, session_type)\n",
    "\t\tsave_to_csv(races_csv_folder+str(session.event.gp)+'_'+str(session.event.date)+'.csv',session.results)\n",
    "\t\tlog_loaded_race(event_num) # maybe move this to after the data is actually loaded into the database"
   ]
  },
  {
   "attachments": {},
   "cell_type": "markdown",
   "id": "0bce7641",
   "metadata": {},
   "source": [
    "# MySQL f1stats"
   ]
  },
  {
   "attachments": {},
   "cell_type": "markdown",
   "id": "63f5bd37",
   "metadata": {},
   "source": [
    "### Connect to Database"
   ]
  },
  {
   "attachments": {},
   "cell_type": "markdown",
   "id": "9db12880",
   "metadata": {},
   "source": [
    "###### Create a 'private_config.json' file, and add the details of your database there."
   ]
  },
  {
   "cell_type": "code",
   "execution_count": 20,
   "id": "2a605f22-15bc-4345-8a58-a288a969d5c8",
   "metadata": {},
   "outputs": [],
   "source": [
    "with open('private_config.json', 'r') as file:\n",
    "\tconfig_data = json.load(file)\n",
    "\n",
    "\n",
    "mydb = mysql.connector.connect(\n",
    "  host=config_data['db_host'],\n",
    "  user=config_data['db_user'],\n",
    "  password=config_data['db_password'],\n",
    "  database=config_data['db_database']\n",
    ")"
   ]
  },
  {
   "attachments": {},
   "cell_type": "markdown",
   "id": "dec05600",
   "metadata": {},
   "source": [
    "### Load data into Database"
   ]
  },
  {
   "attachments": {},
   "cell_type": "markdown",
   "id": "fa6bc290",
   "metadata": {},
   "source": [
    "#### Insert Functions"
   ]
  },
  {
   "cell_type": "code",
   "execution_count": 2,
   "id": "3615eda9",
   "metadata": {},
   "outputs": [],
   "source": [
    "# teams table\n",
    "def insert_into_teams(cursor, data_row):\n",
    "\ttry:\n",
    "\t\tteams_insert_query = '''\n",
    "\t\t\tINSERT INTO teams\n",
    "\t\t\t(name, points, constructor, nationality)\n",
    "\t\t\tVALUES (%s, %s, %s, %s)\n",
    "\t\t'''\n",
    "\t\tcursor.execute(teams_insert_query, \n",
    "\t\t\t(\n",
    "\t\t\t\tdata_row['column1'], \n",
    "\t\t\t\tdata_row['column2'],\n",
    "\t\t\t\tdata_row['column3'],\n",
    "\t\t\t\tdata_row['column4'],  \n",
    "\t\t\t)\n",
    "\t\t) #TODO finish it\n",
    "\t\treturn cursor.lastrowid\n",
    "\texcept Exception as e:\n",
    "\t\tprint(f\"Error occurred while inserting into teams: {e}\")\n",
    "\t\traise\n",
    "\n",
    "\n",
    "\n",
    "# team_price_history table\n",
    "def insert_into_team_price_history(cursor, data_row, team_id_fk):\n",
    "\ttry:\n",
    "\t\tteam_price_history_insert_query = '''\n",
    "\t\t\tINSERT INTO team_price_history\n",
    "\t\t\t(price, date, team_id)\n",
    "\t\t\tVALUES (%s, %s, %s)\n",
    "\t\t'''\n",
    "\t\tcursor.execute(team_price_history_insert_query, \n",
    "\t\t\t(\n",
    "\t\t\t\tdata_row['column1'], \n",
    "\t\t\t\tdata_row['column2'], \n",
    "\t\t\t\tteam_id_fk\n",
    "\t\t\t)\n",
    "\t\t)\n",
    "\t\treturn cursor.lastrowid\n",
    "\texcept Exception as e:\n",
    "\t\tprint(f\"Error occurred while inserting into team_price_history: {e}\")\n",
    "\t\traise\n",
    "\n",
    "\n",
    "\n",
    "# drivers table\n",
    "def insert_into_drivers(cursor, data_row, team_id_fk):\n",
    "\ttry:\n",
    "\t\tdrivers_insert_query = '''\n",
    "\t\t\tINSERT INTO drivers\n",
    "\t\t\t(first_name, last_name, country, number, points, team_id)\n",
    "\t\t\tVALUES (%s, %s, %s, %s, %s, %s)\n",
    "\t\t'''\n",
    "\t\tcursor.execute(drivers_insert_query, \n",
    "\t\t\t(\n",
    "\t\t\t\tdata_row['column1'], \n",
    "\t\t\t\tdata_row['column2'], \n",
    "\t\t\t\tdata_row['column3'], \n",
    "\t\t\t\tdata_row['column4'], \n",
    "\t\t\t\tdata_row['column5'], \n",
    "\t\t\t\tteam_id_fk\n",
    "\t\t\t)\n",
    "\t\t)\n",
    "\t\treturn cursor.lastrowid\n",
    "\texcept Exception as e:\n",
    "\t\tprint(f\"Error occurred while inserting into drivers: {e}\")\n",
    "\t\traise\n",
    "\n",
    "\n",
    "# driver_price_history table\n",
    "def insert_into_driver_price_history(cursor, data_row, driver_id_fk):\n",
    "\ttry:\n",
    "\t\tdriver_price_history_insert_query = '''\n",
    "\t\t\tINSERT INTO driver_price_history\n",
    "\t\t\t(price, date, driver_id)\n",
    "\t\t\tVALUES (%s, %s, %s)\n",
    "\t\t'''\n",
    "\t\tcursor.execute(driver_price_history_insert_query, \n",
    "\t\t\t(\n",
    "\t\t\t\tdata_row['column1'], \n",
    "\t\t\t\tdata_row['column2'], \n",
    "\t\t\t\tdriver_id_fk\n",
    "\t\t\t)\n",
    "\t\t)\n",
    "\t\treturn cursor.lastrowid\n",
    "\texcept Exception as e:\n",
    "\t\tprint(f\"Error occurred while inserting into driver_price_history: {e}\")\n",
    "\t\traise\n",
    "\n",
    "\n",
    "\n",
    "# circuit table\n",
    "def insert_into_circuit(cursor, data_row):\n",
    "\ttry:\n",
    "\t\tcircuit_insert_query = '''\n",
    "\t\t\tINSERT INTO circuit\n",
    "\t\t\t(name, country)\n",
    "\t\t\tVALUES (%s, %s)\n",
    "\t\t'''\n",
    "\t\tcursor.execute(circuit_insert_query, \n",
    "\t\t\t(\n",
    "\t\t\t\tdata_row['column1'], \n",
    "\t\t\t\tdata_row['column2'], \n",
    "\t\t\t)\n",
    "\t\t)\n",
    "\t\treturn cursor.lastrowid\n",
    "\texcept Exception as e:\n",
    "\t\tprint(f\"Error occurred while inserting into circuit: {e}\")\n",
    "\t\traise\n",
    "\n",
    "\n",
    "# race table\n",
    "def insert_into_race(cursor, data_row, circuit_id_fk):\n",
    "\ttry:\n",
    "\t\trace_insert_query = '''\n",
    "\t\t\tINSERT INTO race\n",
    "\t\t\t(race_type, date, laps, lap_length, circuit_id)\n",
    "\t\t\tVALUES (%s, %s, %s, %s, %s)\n",
    "\t\t'''\n",
    "\t\tcursor.execute(race_insert_query, \n",
    "\t\t\t(\n",
    "\t\t\t\tdata_row['column1'], \n",
    "\t\t\t\tdata_row['column2'], \n",
    "\t\t\t\tdata_row['column3'], \n",
    "\t\t\t\tdata_row['column4'], \n",
    "\t\t\t\tcircuit_id_fk\n",
    "\t\t\t)\n",
    "\t\t)\n",
    "\t\treturn cursor.lastrowid\n",
    "\texcept Exception as e:\n",
    "\t\tprint(f\"Error occurred while inserting into race: {e}\")\n",
    "\t\traise\n",
    "\n",
    "\n",
    "# race_results table\n",
    "def insert_into_race_results(cursor, data_row, race_id_fk, driver_id_fk, team_id_fk):\n",
    "\ttry:\n",
    "\t\trace_results_insert_query = '''\n",
    "\t\t\tINSERT INTO race_results\n",
    "\t\t\t(qualifying_position, race_position, fastest_lap_time, race_id, driver_id, team_id)\n",
    "\t\t\tVALUES (%s, %s, %s, %s, %s, %s)\n",
    "\t\t'''\n",
    "\t\tcursor.execute(race_results_insert_query, \n",
    "\t\t\t(\n",
    "\t\t\t\tdata_row['column1'], \n",
    "\t\t\t\tdata_row['column2'], \n",
    "\t\t\t\tdata_row['column3'], \n",
    "\t\t\t\trace_id_fk,\n",
    "\t\t\t\tdriver_id_fk,\n",
    "\t\t\t\tteam_id_fk\n",
    "\t\t\t)\n",
    "\t\t)\n",
    "\t\treturn cursor.lastrowid\n",
    "\texcept Exception as e:\n",
    "\t\tprint(f\"Error occurred while inserting into race_results: {e}\")\n",
    "\t\traise\n",
    "\n",
    "\n",
    "# weather table\n",
    "def insert_into_weather(cursor, data_row, race_id_fk):# todo add more weather stuff\n",
    "\ttry:\n",
    "\t\tweather_insert_query = '''\n",
    "\t\t\tINSERT INTO weather\n",
    "\t\t\t(conditions, temperature, race_id)\n",
    "\t\t\tVALUES (%s, %s, %s)\n",
    "\t\t'''\n",
    "\t\tcursor.execute(weather_insert_query, \n",
    "\t\t\t(\n",
    "\t\t\t\tdata_row['column1'], \n",
    "\t\t\t\tdata_row['column2'], \n",
    "\t\t\t\trace_id_fk\n",
    "\t\t\t)\n",
    "\t\t)\n",
    "\t\treturn cursor.lastrowid\n",
    "\texcept Exception as e:\n",
    "\t\tprint(f\"Error occurred while inserting into weather: {e}\")\n",
    "\t\traise\n"
   ]
  },
  {
   "attachments": {},
   "cell_type": "markdown",
   "id": "90da1715",
   "metadata": {},
   "source": [
    "#### Insert Execution Function"
   ]
  },
  {
   "cell_type": "code",
   "execution_count": 3,
   "id": "187800a1",
   "metadata": {},
   "outputs": [],
   "source": [
    "def execute_db_insert_functions():\n",
    "\twith mydb.cursor() as mycursor:\n",
    "\t\ttry:\n",
    "\t\t\t# Call insert functions here\n",
    "\n",
    "\t\t\tmydb.commit()\n",
    "\t\texcept Exception as e:\n",
    "\t\t\tprint(f\"An error occurred: {e}\")\n",
    "\t\t\tmydb.rollback()\n",
    "\t\t\traise"
   ]
  },
  {
   "cell_type": "code",
   "execution_count": null,
   "id": "45d4c857",
   "metadata": {},
   "outputs": [],
   "source": []
  }
 ],
 "metadata": {
  "kernelspec": {
   "display_name": "Python 3 (ipykernel)",
   "language": "python",
   "name": "python3"
  },
  "language_info": {
   "codemirror_mode": {
    "name": "ipython",
    "version": 3
   },
   "file_extension": ".py",
   "mimetype": "text/x-python",
   "name": "python",
   "nbconvert_exporter": "python",
   "pygments_lexer": "ipython3",
   "version": "3.10.9"
  }
 },
 "nbformat": 4,
 "nbformat_minor": 5
}
