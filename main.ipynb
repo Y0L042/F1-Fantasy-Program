{
 "cells": [
  {
   "cell_type": "markdown",
   "id": "f6402645-7e16-406b-b798-01cb6d63d8c8",
   "metadata": {},
   "source": [
    "# F1 Fantasy Program"
   ]
  },
  {
   "cell_type": "markdown",
   "id": "0ddf7bd9-28c2-440e-8eff-14c9e15df9e1",
   "metadata": {},
   "source": [
    "## ReadMe\n",
    "\n",
    "The goal of this program is to webscrape, and gather, F1 data. The data would then be saved, transformed, and analysed."
   ]
  },
  {
   "cell_type": "markdown",
   "id": "2dd55e30-2d79-4a11-bff4-fc2ed8c92308",
   "metadata": {},
   "source": [
    "## Setup"
   ]
  },
  {
   "cell_type": "code",
   "execution_count": 130,
   "id": "3f5b3bfa-5a35-4ed8-a94e-38a2e2eb19d2",
   "metadata": {},
   "outputs": [],
   "source": [
    "from datetime import datetime\n",
    "from bs4 import BeautifulSoup\n",
    "import requests\n",
    "import glob\n",
    "\n",
    "import fastf1"
   ]
  },
  {
   "cell_type": "markdown",
   "id": "dfc43b1c-45db-49a4-849d-d2022e281d54",
   "metadata": {},
   "source": [
    "### Enable Caching"
   ]
  },
  {
   "cell_type": "code",
   "execution_count": 131,
   "id": "f16b77f2-cd21-49d2-9ab9-16fae158bd08",
   "metadata": {},
   "outputs": [],
   "source": [
    "fastf1.Cache.enable_cache('cache')"
   ]
  },
  {
   "cell_type": "markdown",
   "id": "b3cf2d64-c108-46f4-907b-aee072da55db",
   "metadata": {},
   "source": [
    "### Ignore Warnings"
   ]
  },
  {
   "cell_type": "code",
   "execution_count": 132,
   "id": "71df1cbd-a74d-4efb-b3a2-05483bbb2c63",
   "metadata": {},
   "outputs": [],
   "source": [
    "import warnings\n",
    "warnings.filterwarnings('ignore', category=FutureWarning)"
   ]
  },
  {
   "cell_type": "markdown",
   "id": "fb0a0bdd-edbc-41ee-8624-d333e30eba78",
   "metadata": {},
   "source": [
    "## Data Aquisition"
   ]
  },
  {
   "cell_type": "markdown",
   "id": "a8398f76-5516-4300-a5d9-5e0496f4525b",
   "metadata": {},
   "source": [
    "### Get the completed events of the season (year)"
   ]
  },
  {
   "cell_type": "code",
   "execution_count": 133,
   "id": "b3c4da87-d094-451f-9dfa-07098243c999",
   "metadata": {},
   "outputs": [],
   "source": [
    "def get_season_completed_races(season, b_print=False):\n",
    "    schedule = fastf1.get_event_schedule(season)\n",
    "    completed_events = []\n",
    "    for event in schedule['RoundNumber'][1:]:\n",
    "        if schedule['EventDate'][i_race] < datetime.now():\n",
    "            completed_events.append(schedule.iloc[[event]])\n",
    "    if b_print:\n",
    "        print(completed_events[1]['OfficialEventName'])\n",
    "        \n",
    "    return completed_events"
   ]
  },
  {
   "cell_type": "markdown",
   "id": "b67041d4-3bfc-4b04-b9c5-15d228000df5",
   "metadata": {},
   "source": [
    "### Load the data of the completed sessions"
   ]
  },
  {
   "cell_type": "code",
   "execution_count": 138,
   "id": "8f35f08b-68ae-4cab-9fa4-21ad3a2639cc",
   "metadata": {},
   "outputs": [],
   "source": [
    "def get_session_data(season, event, session_type):\n",
    "    session = fastf1.get_session(season, event, session_type)\n",
    "    session.load()\n",
    "    return session"
   ]
  },
  {
   "cell_type": "code",
   "execution_count": 141,
   "id": "f474f19d-d4f0-4346-8b18-163129fd144f",
   "metadata": {},
   "outputs": [],
   "source": [
    "def get_completed_sessions_data(season, event, session_type):\n",
    "    completed_sessions = []\n",
    "    for event in completed_events:\n",
    "        session = get_session_data(season, event, session_type)\n",
    "        completed_sessions.append(session)\n",
    "    return completed_sessions"
   ]
  },
  {
   "cell_type": "markdown",
   "id": "2a459bf9-b94e-4e4c-8d55-04e1f220b5dd",
   "metadata": {},
   "source": [
    "## TEST"
   ]
  },
  {
   "cell_type": "code",
   "execution_count": 139,
   "id": "8db6afe3-c642-4446-8e30-d1de3b1c5a2a",
   "metadata": {},
   "outputs": [
    {
     "name": "stderr",
     "output_type": "stream",
     "text": [
      "core           INFO \tLoading data for Bahrain Grand Prix - Race [v2.3.1]\n",
      "api            INFO \tUsing cached data for driver_info\n",
      "api            INFO \tUsing cached data for timing_data\n",
      "api            INFO \tUsing cached data for timing_app_data\n",
      "core           INFO \tProcessing timing data...\n",
      "api            INFO \tUsing cached data for session_status_data\n",
      "api            INFO \tUsing cached data for track_status_data\n",
      "api            INFO \tUsing cached data for car_data\n",
      "api            INFO \tUsing cached data for position_data\n",
      "api            INFO \tUsing cached data for weather_data\n",
      "api            INFO \tUsing cached data for race_control_messages\n",
      "core           INFO \tFinished loading data for 20 drivers: ['1', '11', '14', '55', '44', '18', '63', '77', '10', '23', '22', '2', '20', '21', '27', '24', '4', '31', '16', '81']\n"
     ]
    },
    {
     "name": "stdout",
     "output_type": "stream",
     "text": [
      "<fastf1.core.Session object at 0x0000026501257940>\n"
     ]
    }
   ],
   "source": [
    "season = 2023\n",
    "session_num = 1\n",
    "session_type = 'R'\n",
    "\n",
    "session_data = get_session_data(season, session_num, session_type)\n",
    "print(session_data)"
   ]
  },
  {
   "cell_type": "code",
   "execution_count": null,
   "id": "b8ed8d26-37fa-44ac-b905-3644463591dd",
   "metadata": {},
   "outputs": [],
   "source": []
  }
 ],
 "metadata": {
  "kernelspec": {
   "display_name": "Python 3 (ipykernel)",
   "language": "python",
   "name": "python3"
  },
  "language_info": {
   "codemirror_mode": {
    "name": "ipython",
    "version": 3
   },
   "file_extension": ".py",
   "mimetype": "text/x-python",
   "name": "python",
   "nbconvert_exporter": "python",
   "pygments_lexer": "ipython3",
   "version": "3.10.9"
  }
 },
 "nbformat": 4,
 "nbformat_minor": 5
}
