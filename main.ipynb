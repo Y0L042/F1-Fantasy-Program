{
 "cells": [
  {
   "cell_type": "markdown",
   "id": "f6402645-7e16-406b-b798-01cb6d63d8c8",
   "metadata": {},
   "source": [
    "# F1 Fantasy Program"
   ]
  },
  {
   "cell_type": "markdown",
   "id": "0ddf7bd9-28c2-440e-8eff-14c9e15df9e1",
   "metadata": {},
   "source": [
    "## ReadMe\n",
    "\n",
    "The goal of this program is to webscrape, and gather, F1 data. The data would then be saved, transformed, and analysed."
   ]
  },
  {
   "cell_type": "markdown",
   "id": "2dd55e30-2d79-4a11-bff4-fc2ed8c92308",
   "metadata": {},
   "source": [
    "## Setup"
   ]
  },
  {
   "cell_type": "code",
   "execution_count": 261,
   "id": "3f5b3bfa-5a35-4ed8-a94e-38a2e2eb19d2",
   "metadata": {},
   "outputs": [],
   "source": [
    "from datetime import datetime\n",
    "from bs4 import BeautifulSoup\n",
    "import pandas as pd\n",
    "import requests\n",
    "import glob\n",
    "\n",
    "import fastf1"
   ]
  },
  {
   "cell_type": "markdown",
   "id": "dfc43b1c-45db-49a4-849d-d2022e281d54",
   "metadata": {},
   "source": [
    "### Enable Caching"
   ]
  },
  {
   "cell_type": "code",
   "execution_count": 251,
   "id": "f16b77f2-cd21-49d2-9ab9-16fae158bd08",
   "metadata": {},
   "outputs": [],
   "source": [
    "fastf1.Cache.enable_cache('cache')"
   ]
  },
  {
   "cell_type": "markdown",
   "id": "b3cf2d64-c108-46f4-907b-aee072da55db",
   "metadata": {},
   "source": [
    "### Ignore Warnings"
   ]
  },
  {
   "cell_type": "code",
   "execution_count": 252,
   "id": "71df1cbd-a74d-4efb-b3a2-05483bbb2c63",
   "metadata": {},
   "outputs": [],
   "source": [
    "import warnings\n",
    "warnings.filterwarnings('ignore', category=FutureWarning)"
   ]
  },
  {
   "cell_type": "markdown",
   "id": "fb0a0bdd-edbc-41ee-8624-d333e30eba78",
   "metadata": {},
   "source": [
    "## Data Aquisition"
   ]
  },
  {
   "cell_type": "markdown",
   "id": "a8398f76-5516-4300-a5d9-5e0496f4525b",
   "metadata": {},
   "source": [
    "### Get the completed events of the season (year)"
   ]
  },
  {
   "cell_type": "code",
   "execution_count": 253,
   "id": "b3c4da87-d094-451f-9dfa-07098243c999",
   "metadata": {},
   "outputs": [],
   "source": [
    "def get_completed_events(season, b_print=False):\n",
    "    schedule = fastf1.get_event_schedule(season)\n",
    "    # print(schedule)\n",
    "    completed_events = []\n",
    "    for event in schedule['RoundNumber'][1:]:\n",
    "        if schedule['EventDate'][event] < datetime.now():\n",
    "            completed_events.append(schedule.iloc[[event]])        \n",
    "    return completed_events"
   ]
  },
  {
   "cell_type": "markdown",
   "id": "b67041d4-3bfc-4b04-b9c5-15d228000df5",
   "metadata": {},
   "source": [
    "### Load the data of a completed session"
   ]
  },
  {
   "cell_type": "code",
   "execution_count": 254,
   "id": "8f35f08b-68ae-4cab-9fa4-21ad3a2639cc",
   "metadata": {},
   "outputs": [],
   "source": [
    "def get_session_data(season, event_num, session_type):\n",
    "    df_session = fastf1.get_session(season, event_num, session_type)\n",
    "    df_session.load()\n",
    "    return df_session"
   ]
  },
  {
   "cell_type": "markdown",
   "id": "a420ef02-901f-468a-986f-b694d58d2685",
   "metadata": {},
   "source": [
    "### Load the data of all the completed sessions"
   ]
  },
  {
   "cell_type": "code",
   "execution_count": 255,
   "id": "f474f19d-d4f0-4346-8b18-163129fd144f",
   "metadata": {},
   "outputs": [],
   "source": [
    "# def get_completed_sessions(season, completed_events, session_type):\n",
    "#     completed_sessions = []\n",
    "#     for i, event in enumerate(completed_events):\n",
    "#         type(completed_events)\n",
    "#         session = get_session_data(season, event['RoundNumber'], session_type)\n",
    "#         completed_sessions.append(session)\n",
    "#     return completed_sessions"
   ]
  },
  {
   "cell_type": "code",
   "execution_count": 256,
   "id": "72295b8b-68ed-4c0f-b364-7116e9243eca",
   "metadata": {},
   "outputs": [],
   "source": [
    "def get_completed_sessions(season, completed_events, session_type):\n",
    "    # Returns a list of dataframes\n",
    "    completed_sessions = []\n",
    "\n",
    "    for event_df in completed_events:\n",
    "        for _, event in event_df.iterrows():\n",
    "            session = get_session_data(season, event['RoundNumber'], session_type)\n",
    "            completed_sessions.append(session)\n",
    "\n",
    "    return completed_sessions\n"
   ]
  },
  {
   "cell_type": "markdown",
   "id": "fa14d014-5a66-452c-b17e-0b099fc46e09",
   "metadata": {},
   "source": [
    "## Save sessions to csv"
   ]
  },
  {
   "cell_type": "code",
   "execution_count": 259,
   "id": "ca9d5a7f-575b-4e00-b210-9a3a182fe245",
   "metadata": {},
   "outputs": [],
   "source": [
    "def save_df_list_to_csv(dataframe_list, name=\"dataframe\"):\n",
    "    for i, dataframe in enumerate(dataframe_list):\n",
    "        file_name = name + '_' + str(i) + '.csv'\n",
    "        dataframe.to_csv(file_name)"
   ]
  },
  {
   "cell_type": "markdown",
   "id": "2a459bf9-b94e-4e4c-8d55-04e1f220b5dd",
   "metadata": {},
   "source": [
    "## TEST"
   ]
  },
  {
   "cell_type": "code",
   "execution_count": 266,
   "id": "8db6afe3-c642-4446-8e30-d1de3b1c5a2a",
   "metadata": {},
   "outputs": [
    {
     "name": "stderr",
     "output_type": "stream",
     "text": [
      "core           INFO \tLoading data for Bahrain Grand Prix - Race [v2.3.1]\n",
      "api            INFO \tUsing cached data for driver_info\n",
      "api            INFO \tUsing cached data for timing_data\n",
      "api            INFO \tUsing cached data for timing_app_data\n",
      "core           INFO \tProcessing timing data...\n",
      "api            INFO \tUsing cached data for session_status_data\n",
      "api            INFO \tUsing cached data for track_status_data\n",
      "api            INFO \tUsing cached data for car_data\n",
      "api            INFO \tUsing cached data for position_data\n",
      "api            INFO \tUsing cached data for weather_data\n",
      "api            INFO \tUsing cached data for race_control_messages\n",
      "core           INFO \tFinished loading data for 20 drivers: ['1', '11', '14', '55', '44', '18', '63', '77', '10', '23', '22', '2', '20', '21', '27', '24', '4', '31', '16', '81']\n",
      "core           INFO \tLoading data for Saudi Arabian Grand Prix - Race [v2.3.1]\n",
      "api            INFO \tUsing cached data for driver_info\n",
      "api            INFO \tUsing cached data for timing_data\n",
      "api            INFO \tUsing cached data for timing_app_data\n",
      "core           INFO \tProcessing timing data...\n",
      "api            INFO \tUsing cached data for session_status_data\n",
      "api            INFO \tUsing cached data for track_status_data\n",
      "api            INFO \tUsing cached data for car_data\n",
      "api            INFO \tUsing cached data for position_data\n",
      "api            INFO \tUsing cached data for weather_data\n",
      "api            INFO \tUsing cached data for race_control_messages\n",
      "core           INFO \tFinished loading data for 20 drivers: ['11', '1', '14', '63', '44', '55', '16', '31', '10', '20', '22', '27', '24', '21', '81', '2', '4', '77', '23', '18']\n"
     ]
    },
    {
     "name": "stdout",
     "output_type": "stream",
     "text": [
      "<fastf1.core.Session object at 0x000002650E7E04C0>\n"
     ]
    }
   ],
   "source": [
    "season = 2023\n",
    "event_num = 1\n",
    "session_type = 'R'\n",
    "\n",
    "# session_data = get_session_data(season, event_num, session_type)\n",
    "# print(session_data)\n",
    "\n",
    "completed_events = get_completed_events(season)\n",
    "# print(completed_events)\n",
    "completed_sessions = get_completed_sessions(season, completed_events, session_type) \n",
    "print(completed_sessions[1])"
   ]
  },
  {
   "cell_type": "code",
   "execution_count": 271,
   "id": "221b5b9f-2006-439a-b650-385303cc7d76",
   "metadata": {},
   "outputs": [],
   "source": [
    "results_list = [session.results for session in completed_sessions]\n",
    "save_df_list_to_csv(results_list)"
   ]
  },
  {
   "cell_type": "code",
   "execution_count": null,
   "id": "2a605f22-15bc-4345-8a58-a288a969d5c8",
   "metadata": {},
   "outputs": [],
   "source": []
  }
 ],
 "metadata": {
  "kernelspec": {
   "display_name": "Python 3 (ipykernel)",
   "language": "python",
   "name": "python3"
  },
  "language_info": {
   "codemirror_mode": {
    "name": "ipython",
    "version": 3
   },
   "file_extension": ".py",
   "mimetype": "text/x-python",
   "name": "python",
   "nbconvert_exporter": "python",
   "pygments_lexer": "ipython3",
   "version": "3.10.9"
  }
 },
 "nbformat": 4,
 "nbformat_minor": 5
}
