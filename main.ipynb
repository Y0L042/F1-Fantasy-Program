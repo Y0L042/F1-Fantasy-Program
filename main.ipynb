{
 "cells": [
  {
   "cell_type": "markdown",
   "id": "f6402645-7e16-406b-b798-01cb6d63d8c8",
   "metadata": {},
   "source": [
    "# F1 Fantasy Program"
   ]
  },
  {
   "cell_type": "markdown",
   "id": "0ddf7bd9-28c2-440e-8eff-14c9e15df9e1",
   "metadata": {},
   "source": [
    "## ReadMe\n",
    "\n",
    "The goal of this program is to webscrape, and gather, F1 data. The data would then be saved, transformed, and analysed."
   ]
  },
  {
   "cell_type": "markdown",
   "id": "2dd55e30-2d79-4a11-bff4-fc2ed8c92308",
   "metadata": {},
   "source": [
    "## Setup"
   ]
  },
  {
   "cell_type": "code",
   "execution_count": 1,
   "id": "3f5b3bfa-5a35-4ed8-a94e-38a2e2eb19d2",
   "metadata": {},
   "outputs": [],
   "source": [
    "from datetime import datetime\n",
    "from bs4 import BeautifulSoup\n",
    "import pandas as pd\n",
    "import requests\n",
    "import glob\n",
    "\n",
    "import fastf1"
   ]
  },
  {
   "cell_type": "markdown",
   "id": "dfc43b1c-45db-49a4-849d-d2022e281d54",
   "metadata": {},
   "source": [
    "### Enable Caching"
   ]
  },
  {
   "cell_type": "code",
   "execution_count": 2,
   "id": "f16b77f2-cd21-49d2-9ab9-16fae158bd08",
   "metadata": {},
   "outputs": [],
   "source": [
    "fastf1.Cache.enable_cache('cache')"
   ]
  },
  {
   "cell_type": "markdown",
   "id": "b3cf2d64-c108-46f4-907b-aee072da55db",
   "metadata": {},
   "source": [
    "### Ignore Warnings"
   ]
  },
  {
   "cell_type": "code",
   "execution_count": 3,
   "id": "71df1cbd-a74d-4efb-b3a2-05483bbb2c63",
   "metadata": {},
   "outputs": [],
   "source": [
    "import warnings\n",
    "warnings.filterwarnings('ignore', category=FutureWarning)"
   ]
  },
  {
   "cell_type": "markdown",
   "id": "fb0a0bdd-edbc-41ee-8624-d333e30eba78",
   "metadata": {},
   "source": [
    "# Data Aquisition"
   ]
  },
  {
   "cell_type": "markdown",
   "id": "78e52cfb-b979-4b87-b473-29c54e7e1a20",
   "metadata": {},
   "source": [
    "## Webscraping"
   ]
  },
  {
   "cell_type": "code",
   "execution_count": 4,
   "id": "8e76cb10-f64b-4f02-8491-87305a632411",
   "metadata": {},
   "outputs": [],
   "source": [
    "# # url = 'https://f1fantasytools.com/driver-constructor-info'\n",
    "# url = 'https://www.f1fantasytracker.com/prices.html'\n",
    "# response = requests.get(url)\n",
    "# soup = BeautifulSoup(response.content, 'html.parser')\n",
    "# # tables = soup.find_all('table')\n",
    "\n",
    "# current_prices = []\n",
    "# driver_table = soup.find('table', id='driverTable')\n",
    "# for row in table.tbody.find_all('tr'):\n",
    "#     cols = row.find_all('td')\n",
    "#     print(cols)\n",
    "#     break\n",
    "\n",
    "# constructor_table = soup.find('table', id='constructorTable')\n"
   ]
  },
  {
   "cell_type": "code",
   "execution_count": 5,
   "id": "7860fb5c-66a1-4143-8676-cafd21bf593f",
   "metadata": {},
   "outputs": [
    {
     "name": "stdout",
     "output_type": "stream",
     "text": [
      "\n",
      "\n"
     ]
    }
   ],
   "source": [
    "from bs4 import BeautifulSoup\n",
    "import requests\n",
    "\n",
    "url = 'https://www.f1fantasytracker.com/prices.html'  # replace with the URL of the website you want to scrape\n",
    "response = requests.get(url)\n",
    "soup = BeautifulSoup(response.content, 'html.parser')\n",
    "\n",
    "current_price = soup.find('span', {'id': 'CurrentPrice1'}).text\n",
    "season_price = soup.find('span', {'id': 'SeasonPrice1'}).text\n",
    "\n",
    "print(current_price)\n",
    "print(season_price)"
   ]
  },
  {
   "cell_type": "markdown",
   "id": "4c91b353-95b3-4290-ba19-6c4bf46c7ea0",
   "metadata": {},
   "source": [
    "## API"
   ]
  },
  {
   "cell_type": "markdown",
   "id": "a8398f76-5516-4300-a5d9-5e0496f4525b",
   "metadata": {},
   "source": [
    "### Get the completed events of the season (year)"
   ]
  },
  {
   "cell_type": "code",
   "execution_count": 6,
   "id": "b3c4da87-d094-451f-9dfa-07098243c999",
   "metadata": {},
   "outputs": [],
   "source": [
    "def get_completed_events(season, b_print=False):\n",
    "    schedule = fastf1.get_event_schedule(season)\n",
    "    # print(schedule)\n",
    "    completed_events = []\n",
    "    for event in schedule['RoundNumber'][1:]:\n",
    "        if schedule['EventDate'][event] < datetime.now():\n",
    "            completed_events.append(schedule.iloc[[event]])        \n",
    "    return completed_events"
   ]
  },
  {
   "cell_type": "markdown",
   "id": "b67041d4-3bfc-4b04-b9c5-15d228000df5",
   "metadata": {},
   "source": [
    "### Load the data of a completed session"
   ]
  },
  {
   "cell_type": "code",
   "execution_count": 7,
   "id": "8f35f08b-68ae-4cab-9fa4-21ad3a2639cc",
   "metadata": {},
   "outputs": [],
   "source": [
    "def get_session_data(season, event_num, session_type):\n",
    "    df_session = fastf1.get_session(season, event_num, session_type)\n",
    "    df_session.load()\n",
    "    return df_session"
   ]
  },
  {
   "cell_type": "markdown",
   "id": "a420ef02-901f-468a-986f-b694d58d2685",
   "metadata": {},
   "source": [
    "### Load the data of all the completed sessions"
   ]
  },
  {
   "cell_type": "code",
   "execution_count": 8,
   "id": "f474f19d-d4f0-4346-8b18-163129fd144f",
   "metadata": {},
   "outputs": [],
   "source": [
    "# def get_completed_sessions(season, completed_events, session_type):\n",
    "#     completed_sessions = []\n",
    "#     for i, event in enumerate(completed_events):\n",
    "#         type(completed_events)\n",
    "#         session = get_session_data(season, event['RoundNumber'], session_type)\n",
    "#         completed_sessions.append(session)\n",
    "#     return completed_sessions"
   ]
  },
  {
   "cell_type": "code",
   "execution_count": 9,
   "id": "72295b8b-68ed-4c0f-b364-7116e9243eca",
   "metadata": {},
   "outputs": [],
   "source": [
    "def get_completed_sessions(season, completed_events, session_type):\n",
    "    # Returns a list of dataframes\n",
    "    completed_sessions = []\n",
    "\n",
    "    for event_df in completed_events:\n",
    "        for _, event in event_df.iterrows():\n",
    "            session = get_session_data(season, event['RoundNumber'], session_type)\n",
    "            completed_sessions.append(session)\n",
    "\n",
    "    return completed_sessions\n"
   ]
  },
  {
   "cell_type": "markdown",
   "id": "fa14d014-5a66-452c-b17e-0b099fc46e09",
   "metadata": {},
   "source": [
    "## Save sessions to csv"
   ]
  },
  {
   "cell_type": "code",
   "execution_count": 10,
   "id": "ca9d5a7f-575b-4e00-b210-9a3a182fe245",
   "metadata": {},
   "outputs": [],
   "source": [
    "def save_df_list_to_csv(dataframe_list, name=\"dataframe\"):\n",
    "    for i, dataframe in enumerate(dataframe_list):\n",
    "        file_name = name + '_' + str(i) + '.csv'\n",
    "        dataframe.to_csv(file_name)"
   ]
  },
  {
   "cell_type": "markdown",
   "id": "2a459bf9-b94e-4e4c-8d55-04e1f220b5dd",
   "metadata": {},
   "source": [
    "## TEST"
   ]
  },
  {
   "cell_type": "code",
   "execution_count": 11,
   "id": "8db6afe3-c642-4446-8e30-d1de3b1c5a2a",
   "metadata": {},
   "outputs": [
    {
     "name": "stderr",
     "output_type": "stream",
     "text": [
      "core           INFO \tLoading data for Australian Grand Prix - Race [v2.3.1]\n",
      "api            INFO \tUsing cached data for driver_info\n"
     ]
    },
    {
     "ename": "KeyboardInterrupt",
     "evalue": "",
     "output_type": "error",
     "traceback": [
      "\u001b[1;31m---------------------------------------------------------------------------\u001b[0m",
      "\u001b[1;31mKeyboardInterrupt\u001b[0m                         Traceback (most recent call last)",
      "Cell \u001b[1;32mIn[11], line 5\u001b[0m\n\u001b[0;32m      2\u001b[0m event_num \u001b[39m=\u001b[39m \u001b[39m3\u001b[39m\n\u001b[0;32m      3\u001b[0m session_type \u001b[39m=\u001b[39m \u001b[39m'\u001b[39m\u001b[39mR\u001b[39m\u001b[39m'\u001b[39m\n\u001b[1;32m----> 5\u001b[0m session_data \u001b[39m=\u001b[39m get_session_data(season, event_num, session_type)\n\u001b[0;32m      6\u001b[0m \u001b[39mprint\u001b[39m(session_data)\n\u001b[0;32m      8\u001b[0m completed_events \u001b[39m=\u001b[39m get_completed_events(season)\n",
      "Cell \u001b[1;32mIn[7], line 3\u001b[0m, in \u001b[0;36mget_session_data\u001b[1;34m(season, event_num, session_type)\u001b[0m\n\u001b[0;32m      1\u001b[0m \u001b[39mdef\u001b[39;00m \u001b[39mget_session_data\u001b[39m(season, event_num, session_type):\n\u001b[0;32m      2\u001b[0m     df_session \u001b[39m=\u001b[39m fastf1\u001b[39m.\u001b[39mget_session(season, event_num, session_type)\n\u001b[1;32m----> 3\u001b[0m     df_session\u001b[39m.\u001b[39;49mload()\n\u001b[0;32m      4\u001b[0m     \u001b[39mreturn\u001b[39;00m df_session\n",
      "File \u001b[1;32mc:\\Users\\vlamf\\Coding\\anaconda3\\lib\\site-packages\\fastf1\\core.py:1170\u001b[0m, in \u001b[0;36mSession.load\u001b[1;34m(self, laps, telemetry, weather, messages, livedata)\u001b[0m\n\u001b[0;32m   1123\u001b[0m \u001b[39m\"\"\"Load session data from the supported APIs.\u001b[39;00m\n\u001b[0;32m   1124\u001b[0m \n\u001b[0;32m   1125\u001b[0m \u001b[39mThis method allows to flexibly load some or all data that FastF1 can\u001b[39;00m\n\u001b[1;32m   (...)\u001b[0m\n\u001b[0;32m   1164\u001b[0m \u001b[39m        livetiming data can be used as a data source\u001b[39;00m\n\u001b[0;32m   1165\u001b[0m \u001b[39m\"\"\"\u001b[39;00m\n\u001b[0;32m   1166\u001b[0m logging\u001b[39m.\u001b[39minfo(\u001b[39mf\u001b[39m\u001b[39m\"\u001b[39m\u001b[39mLoading data for \u001b[39m\u001b[39m\"\u001b[39m\n\u001b[0;32m   1167\u001b[0m              \u001b[39mf\u001b[39m\u001b[39m\"\u001b[39m\u001b[39m{\u001b[39;00m\u001b[39mself\u001b[39m\u001b[39m.\u001b[39mevent[\u001b[39m'\u001b[39m\u001b[39mEventName\u001b[39m\u001b[39m'\u001b[39m]\u001b[39m}\u001b[39;00m\u001b[39m - \u001b[39m\u001b[39m{\u001b[39;00m\u001b[39mself\u001b[39m\u001b[39m.\u001b[39mname\u001b[39m}\u001b[39;00m\u001b[39m\"\u001b[39m\n\u001b[0;32m   1168\u001b[0m              \u001b[39mf\u001b[39m\u001b[39m\"\u001b[39m\u001b[39m [v\u001b[39m\u001b[39m{\u001b[39;00mfastf1\u001b[39m.\u001b[39m__version__\u001b[39m}\u001b[39;00m\u001b[39m]\u001b[39m\u001b[39m\"\u001b[39m)\n\u001b[1;32m-> 1170\u001b[0m \u001b[39mself\u001b[39;49m\u001b[39m.\u001b[39;49m_load_drivers_results(livedata\u001b[39m=\u001b[39;49mlivedata)\n\u001b[0;32m   1172\u001b[0m \u001b[39mif\u001b[39;00m \u001b[39mself\u001b[39m\u001b[39m.\u001b[39mf1_api_support:\n\u001b[0;32m   1173\u001b[0m     \u001b[39mif\u001b[39;00m laps:\n",
      "File \u001b[1;32mc:\\Users\\vlamf\\Coding\\anaconda3\\lib\\site-packages\\fastf1\\core.py:1583\u001b[0m, in \u001b[0;36mSession._load_drivers_results\u001b[1;34m(self, livedata)\u001b[0m\n\u001b[0;32m   1580\u001b[0m drivers \u001b[39m=\u001b[39m pd\u001b[39m.\u001b[39mDataFrame(driver_info,\n\u001b[0;32m   1581\u001b[0m                        index\u001b[39m=\u001b[39mdriver_info[\u001b[39m'\u001b[39m\u001b[39mDriverNumber\u001b[39m\u001b[39m'\u001b[39m])\n\u001b[0;32m   1582\u001b[0m \u001b[39mif\u001b[39;00m \u001b[39mnot\u001b[39;00m \u001b[39mself\u001b[39m\u001b[39m.\u001b[39mevent\u001b[39m.\u001b[39mis_testing():\n\u001b[1;32m-> 1583\u001b[0m     r \u001b[39m=\u001b[39m \u001b[39mself\u001b[39;49m\u001b[39m.\u001b[39;49m_drivers_results_from_ergast(load_results\u001b[39m=\u001b[39;49m\u001b[39mTrue\u001b[39;49;00m)\n\u001b[0;32m   1584\u001b[0m \u001b[39melse\u001b[39;00m:\n\u001b[0;32m   1585\u001b[0m     r \u001b[39m=\u001b[39m \u001b[39mNone\u001b[39;00m\n",
      "File \u001b[1;32mc:\\Users\\vlamf\\Coding\\anaconda3\\lib\\site-packages\\fastf1\\core.py:1641\u001b[0m, in \u001b[0;36mSession._drivers_results_from_ergast\u001b[1;34m(self, load_drivers, load_results)\u001b[0m\n\u001b[0;32m   1639\u001b[0m d \u001b[39m=\u001b[39m collections\u001b[39m.\u001b[39mdefaultdict(\u001b[39mlist\u001b[39m)\n\u001b[0;32m   1640\u001b[0m \u001b[39mtry\u001b[39;00m:\n\u001b[1;32m-> 1641\u001b[0m     data \u001b[39m=\u001b[39m ergast\u001b[39m.\u001b[39;49mfetch_results(\n\u001b[0;32m   1642\u001b[0m         \u001b[39mself\u001b[39;49m\u001b[39m.\u001b[39;49mevent\u001b[39m.\u001b[39;49myear, \u001b[39mself\u001b[39;49m\u001b[39m.\u001b[39;49mevent[\u001b[39m'\u001b[39;49m\u001b[39mRoundNumber\u001b[39;49m\u001b[39m'\u001b[39;49m], session_name\n\u001b[0;32m   1643\u001b[0m     )\n\u001b[0;32m   1644\u001b[0m \u001b[39mexcept\u001b[39;00m \u001b[39mException\u001b[39;00m \u001b[39mas\u001b[39;00m exc:\n\u001b[0;32m   1645\u001b[0m     logging\u001b[39m.\u001b[39mwarning(\u001b[39m\"\u001b[39m\u001b[39mFailed to load data from Ergast API! \u001b[39m\u001b[39m\"\u001b[39m\n\u001b[0;32m   1646\u001b[0m                     \u001b[39m\"\u001b[39m\u001b[39m(This is expected for recent sessions)\u001b[39m\u001b[39m\"\u001b[39m)\n",
      "File \u001b[1;32mc:\\Users\\vlamf\\Coding\\anaconda3\\lib\\site-packages\\fastf1\\ergast.py:25\u001b[0m, in \u001b[0;36mfetch_results\u001b[1;34m(year, gp, session)\u001b[0m\n\u001b[0;32m     22\u001b[0m     day \u001b[39m=\u001b[39m \u001b[39m'\u001b[39m\u001b[39msprint\u001b[39m\u001b[39m'\u001b[39m\n\u001b[0;32m     23\u001b[0m     sel \u001b[39m=\u001b[39m \u001b[39m'\u001b[39m\u001b[39mSprintResults\u001b[39m\u001b[39m'\u001b[39m\n\u001b[1;32m---> 25\u001b[0m \u001b[39mreturn\u001b[39;00m _parse_ergast(fetch_day(year, gp, day))[\u001b[39m0\u001b[39m][sel]\n",
      "File \u001b[1;32mc:\\Users\\vlamf\\Coding\\anaconda3\\lib\\site-packages\\fastf1\\ergast.py:60\u001b[0m, in \u001b[0;36mfetch_day\u001b[1;34m(year, gp, day)\u001b[0m\n\u001b[0;32m     57\u001b[0m \u001b[39m\"\"\"day can be 'qualifying' or 'results'\u001b[39;00m\n\u001b[0;32m     58\u001b[0m \u001b[39m\"\"\"\u001b[39;00m\n\u001b[0;32m     59\u001b[0m url \u001b[39m=\u001b[39m \u001b[39mf\u001b[39m\u001b[39m\"\u001b[39m\u001b[39m{\u001b[39;00mbase_url\u001b[39m}\u001b[39;00m\u001b[39m/\u001b[39m\u001b[39m{\u001b[39;00myear\u001b[39m}\u001b[39;00m\u001b[39m/\u001b[39m\u001b[39m{\u001b[39;00mgp\u001b[39m}\u001b[39;00m\u001b[39m/\u001b[39m\u001b[39m{\u001b[39;00mday\u001b[39m}\u001b[39;00m\u001b[39m.json\u001b[39m\u001b[39m\"\u001b[39m\n\u001b[1;32m---> 60\u001b[0m \u001b[39mreturn\u001b[39;00m _parse_json_response(Cache\u001b[39m.\u001b[39;49mrequests_get(url, headers\u001b[39m=\u001b[39;49m_headers))\n",
      "File \u001b[1;32mc:\\Users\\vlamf\\Coding\\anaconda3\\lib\\site-packages\\fastf1\\api.py:165\u001b[0m, in \u001b[0;36mCache.requests_get\u001b[1;34m(cls, *args, **kwargs)\u001b[0m\n\u001b[0;32m    163\u001b[0m \u001b[39mif\u001b[39;00m (\u001b[39mcls\u001b[39m\u001b[39m.\u001b[39m_requests_session \u001b[39mis\u001b[39;00m \u001b[39mNone\u001b[39;00m) \u001b[39mor\u001b[39;00m \u001b[39mcls\u001b[39m\u001b[39m.\u001b[39m_tmp_disabled:\n\u001b[0;32m    164\u001b[0m     \u001b[39mreturn\u001b[39;00m requests\u001b[39m.\u001b[39mget(\u001b[39m*\u001b[39margs, \u001b[39m*\u001b[39m\u001b[39m*\u001b[39mkwargs)\n\u001b[1;32m--> 165\u001b[0m \u001b[39mreturn\u001b[39;00m \u001b[39mcls\u001b[39m\u001b[39m.\u001b[39m_requests_session\u001b[39m.\u001b[39mget(\u001b[39m*\u001b[39margs, \u001b[39m*\u001b[39m\u001b[39m*\u001b[39mkwargs)\n",
      "File \u001b[1;32mc:\\Users\\vlamf\\Coding\\anaconda3\\lib\\site-packages\\requests_cache\\session.py:103\u001b[0m, in \u001b[0;36mCacheMixin.get\u001b[1;34m(self, url, params, **kwargs)\u001b[0m\n\u001b[0;32m    101\u001b[0m \u001b[39mdef\u001b[39;00m \u001b[39mget\u001b[39m(\u001b[39mself\u001b[39m, url: \u001b[39mstr\u001b[39m, params\u001b[39m=\u001b[39m\u001b[39mNone\u001b[39;00m, \u001b[39m*\u001b[39m\u001b[39m*\u001b[39mkwargs) \u001b[39m-\u001b[39m\u001b[39m>\u001b[39m AnyResponse:  \u001b[39m# type: ignore\u001b[39;00m\n\u001b[0;32m    102\u001b[0m     kwargs\u001b[39m.\u001b[39msetdefault(\u001b[39m'\u001b[39m\u001b[39mallow_redirects\u001b[39m\u001b[39m'\u001b[39m, \u001b[39mTrue\u001b[39;00m)\n\u001b[1;32m--> 103\u001b[0m     \u001b[39mreturn\u001b[39;00m \u001b[39mself\u001b[39m\u001b[39m.\u001b[39mrequest(\u001b[39m'\u001b[39m\u001b[39mGET\u001b[39m\u001b[39m'\u001b[39m, url, params\u001b[39m=\u001b[39mparams, \u001b[39m*\u001b[39m\u001b[39m*\u001b[39mkwargs)\n",
      "File \u001b[1;32mc:\\Users\\vlamf\\Coding\\anaconda3\\lib\\site-packages\\requests_cache\\session.py:159\u001b[0m, in \u001b[0;36mCacheMixin.request\u001b[1;34m(self, method, url, headers, expire_after, only_if_cached, refresh, force_refresh, *args, **kwargs)\u001b[0m\n\u001b[0;32m    157\u001b[0m headers \u001b[39m=\u001b[39m set_request_headers(headers, expire_after, only_if_cached, refresh, force_refresh)\n\u001b[0;32m    158\u001b[0m \u001b[39mwith\u001b[39;00m patch_form_boundary() \u001b[39mif\u001b[39;00m kwargs\u001b[39m.\u001b[39mget(\u001b[39m'\u001b[39m\u001b[39mfiles\u001b[39m\u001b[39m'\u001b[39m) \u001b[39melse\u001b[39;00m nullcontext():\n\u001b[1;32m--> 159\u001b[0m     \u001b[39mreturn\u001b[39;00m \u001b[39msuper\u001b[39m()\u001b[39m.\u001b[39mrequest(method, url, \u001b[39m*\u001b[39margs, headers\u001b[39m=\u001b[39mheaders, \u001b[39m*\u001b[39m\u001b[39m*\u001b[39mkwargs)\n",
      "File \u001b[1;32mc:\\Users\\vlamf\\Coding\\anaconda3\\lib\\site-packages\\requests\\sessions.py:587\u001b[0m, in \u001b[0;36mSession.request\u001b[1;34m(self, method, url, params, data, headers, cookies, files, auth, timeout, allow_redirects, proxies, hooks, stream, verify, cert, json)\u001b[0m\n\u001b[0;32m    582\u001b[0m send_kwargs \u001b[39m=\u001b[39m {\n\u001b[0;32m    583\u001b[0m     \u001b[39m\"\u001b[39m\u001b[39mtimeout\u001b[39m\u001b[39m\"\u001b[39m: timeout,\n\u001b[0;32m    584\u001b[0m     \u001b[39m\"\u001b[39m\u001b[39mallow_redirects\u001b[39m\u001b[39m\"\u001b[39m: allow_redirects,\n\u001b[0;32m    585\u001b[0m }\n\u001b[0;32m    586\u001b[0m send_kwargs\u001b[39m.\u001b[39mupdate(settings)\n\u001b[1;32m--> 587\u001b[0m resp \u001b[39m=\u001b[39m \u001b[39mself\u001b[39m\u001b[39m.\u001b[39msend(prep, \u001b[39m*\u001b[39m\u001b[39m*\u001b[39msend_kwargs)\n\u001b[0;32m    589\u001b[0m \u001b[39mreturn\u001b[39;00m resp\n",
      "File \u001b[1;32mc:\\Users\\vlamf\\Coding\\anaconda3\\lib\\site-packages\\requests_cache\\session.py:204\u001b[0m, in \u001b[0;36mCacheMixin.send\u001b[1;34m(self, request, expire_after, only_if_cached, refresh, force_refresh, **kwargs)\u001b[0m\n\u001b[0;32m    202\u001b[0m     response \u001b[39m=\u001b[39m cached_response  \u001b[39m# type: ignore\u001b[39;00m\n\u001b[0;32m    203\u001b[0m \u001b[39melif\u001b[39;00m actions\u001b[39m.\u001b[39mresend_request:\n\u001b[1;32m--> 204\u001b[0m     response \u001b[39m=\u001b[39m \u001b[39mself\u001b[39m\u001b[39m.\u001b[39m_resend(request, actions, cached_response, \u001b[39m*\u001b[39m\u001b[39m*\u001b[39mkwargs)  \u001b[39m# type: ignore\u001b[39;00m\n\u001b[0;32m    205\u001b[0m \u001b[39melif\u001b[39;00m actions\u001b[39m.\u001b[39msend_request:\n\u001b[0;32m    206\u001b[0m     response \u001b[39m=\u001b[39m \u001b[39mself\u001b[39m\u001b[39m.\u001b[39m_send_and_cache(request, actions, cached_response, \u001b[39m*\u001b[39m\u001b[39m*\u001b[39mkwargs)\n",
      "File \u001b[1;32mc:\\Users\\vlamf\\Coding\\anaconda3\\lib\\site-packages\\requests_cache\\session.py:255\u001b[0m, in \u001b[0;36mCacheMixin._resend\u001b[1;34m(self, request, actions, cached_response, **kwargs)\u001b[0m\n\u001b[0;32m    253\u001b[0m logger\u001b[39m.\u001b[39mdebug(\u001b[39m'\u001b[39m\u001b[39mStale response; attempting to re-send request\u001b[39m\u001b[39m'\u001b[39m)\n\u001b[0;32m    254\u001b[0m \u001b[39mtry\u001b[39;00m:\n\u001b[1;32m--> 255\u001b[0m     response \u001b[39m=\u001b[39m \u001b[39mself\u001b[39m\u001b[39m.\u001b[39m_send_and_cache(request, actions, cached_response, \u001b[39m*\u001b[39m\u001b[39m*\u001b[39mkwargs)\n\u001b[0;32m    256\u001b[0m     \u001b[39mif\u001b[39;00m (\n\u001b[0;32m    257\u001b[0m         \u001b[39mself\u001b[39m\u001b[39m.\u001b[39msettings\u001b[39m.\u001b[39mstale_if_error\n\u001b[0;32m    258\u001b[0m         \u001b[39mand\u001b[39;00m response\u001b[39m.\u001b[39mstatus_code \u001b[39mnot\u001b[39;00m \u001b[39min\u001b[39;00m \u001b[39mself\u001b[39m\u001b[39m.\u001b[39msettings\u001b[39m.\u001b[39mallowable_codes\n\u001b[0;32m    259\u001b[0m     ):\n\u001b[0;32m    260\u001b[0m         response\u001b[39m.\u001b[39mraise_for_status()\n",
      "File \u001b[1;32mc:\\Users\\vlamf\\Coding\\anaconda3\\lib\\site-packages\\requests_cache\\session.py:230\u001b[0m, in \u001b[0;36mCacheMixin._send_and_cache\u001b[1;34m(self, request, actions, cached_response, **kwargs)\u001b[0m\n\u001b[0;32m    226\u001b[0m \u001b[39m\"\"\"Send a request and cache the response, unless disabled by settings or headers.\u001b[39;00m\n\u001b[0;32m    227\u001b[0m \u001b[39mIf applicable, also handle conditional requests.\u001b[39;00m\n\u001b[0;32m    228\u001b[0m \u001b[39m\"\"\"\u001b[39;00m\n\u001b[0;32m    229\u001b[0m request \u001b[39m=\u001b[39m actions\u001b[39m.\u001b[39mupdate_request(request)\n\u001b[1;32m--> 230\u001b[0m response \u001b[39m=\u001b[39m \u001b[39msuper\u001b[39m()\u001b[39m.\u001b[39msend(request, \u001b[39m*\u001b[39m\u001b[39m*\u001b[39mkwargs)\n\u001b[0;32m    231\u001b[0m actions\u001b[39m.\u001b[39mupdate_from_response(response)\n\u001b[0;32m    233\u001b[0m \u001b[39mif\u001b[39;00m \u001b[39mnot\u001b[39;00m actions\u001b[39m.\u001b[39mskip_write:\n",
      "File \u001b[1;32mc:\\Users\\vlamf\\Coding\\anaconda3\\lib\\site-packages\\requests\\sessions.py:701\u001b[0m, in \u001b[0;36mSession.send\u001b[1;34m(self, request, **kwargs)\u001b[0m\n\u001b[0;32m    698\u001b[0m start \u001b[39m=\u001b[39m preferred_clock()\n\u001b[0;32m    700\u001b[0m \u001b[39m# Send the request\u001b[39;00m\n\u001b[1;32m--> 701\u001b[0m r \u001b[39m=\u001b[39m adapter\u001b[39m.\u001b[39msend(request, \u001b[39m*\u001b[39m\u001b[39m*\u001b[39mkwargs)\n\u001b[0;32m    703\u001b[0m \u001b[39m# Total elapsed time of the request (approximately)\u001b[39;00m\n\u001b[0;32m    704\u001b[0m elapsed \u001b[39m=\u001b[39m preferred_clock() \u001b[39m-\u001b[39m start\n",
      "File \u001b[1;32mc:\\Users\\vlamf\\Coding\\anaconda3\\lib\\site-packages\\requests\\adapters.py:489\u001b[0m, in \u001b[0;36mHTTPAdapter.send\u001b[1;34m(self, request, stream, timeout, verify, cert, proxies)\u001b[0m\n\u001b[0;32m    487\u001b[0m \u001b[39mtry\u001b[39;00m:\n\u001b[0;32m    488\u001b[0m     \u001b[39mif\u001b[39;00m \u001b[39mnot\u001b[39;00m chunked:\n\u001b[1;32m--> 489\u001b[0m         resp \u001b[39m=\u001b[39m conn\u001b[39m.\u001b[39;49murlopen(\n\u001b[0;32m    490\u001b[0m             method\u001b[39m=\u001b[39;49mrequest\u001b[39m.\u001b[39;49mmethod,\n\u001b[0;32m    491\u001b[0m             url\u001b[39m=\u001b[39;49murl,\n\u001b[0;32m    492\u001b[0m             body\u001b[39m=\u001b[39;49mrequest\u001b[39m.\u001b[39;49mbody,\n\u001b[0;32m    493\u001b[0m             headers\u001b[39m=\u001b[39;49mrequest\u001b[39m.\u001b[39;49mheaders,\n\u001b[0;32m    494\u001b[0m             redirect\u001b[39m=\u001b[39;49m\u001b[39mFalse\u001b[39;49;00m,\n\u001b[0;32m    495\u001b[0m             assert_same_host\u001b[39m=\u001b[39;49m\u001b[39mFalse\u001b[39;49;00m,\n\u001b[0;32m    496\u001b[0m             preload_content\u001b[39m=\u001b[39;49m\u001b[39mFalse\u001b[39;49;00m,\n\u001b[0;32m    497\u001b[0m             decode_content\u001b[39m=\u001b[39;49m\u001b[39mFalse\u001b[39;49;00m,\n\u001b[0;32m    498\u001b[0m             retries\u001b[39m=\u001b[39;49m\u001b[39mself\u001b[39;49m\u001b[39m.\u001b[39;49mmax_retries,\n\u001b[0;32m    499\u001b[0m             timeout\u001b[39m=\u001b[39;49mtimeout,\n\u001b[0;32m    500\u001b[0m         )\n\u001b[0;32m    502\u001b[0m     \u001b[39m# Send the request.\u001b[39;00m\n\u001b[0;32m    503\u001b[0m     \u001b[39melse\u001b[39;00m:\n\u001b[0;32m    504\u001b[0m         \u001b[39mif\u001b[39;00m \u001b[39mhasattr\u001b[39m(conn, \u001b[39m\"\u001b[39m\u001b[39mproxy_pool\u001b[39m\u001b[39m\"\u001b[39m):\n",
      "File \u001b[1;32mc:\\Users\\vlamf\\Coding\\anaconda3\\lib\\site-packages\\urllib3\\connectionpool.py:703\u001b[0m, in \u001b[0;36mHTTPConnectionPool.urlopen\u001b[1;34m(self, method, url, body, headers, retries, redirect, assert_same_host, timeout, pool_timeout, release_conn, chunked, body_pos, **response_kw)\u001b[0m\n\u001b[0;32m    700\u001b[0m     \u001b[39mself\u001b[39m\u001b[39m.\u001b[39m_prepare_proxy(conn)\n\u001b[0;32m    702\u001b[0m \u001b[39m# Make the request on the httplib connection object.\u001b[39;00m\n\u001b[1;32m--> 703\u001b[0m httplib_response \u001b[39m=\u001b[39m \u001b[39mself\u001b[39;49m\u001b[39m.\u001b[39;49m_make_request(\n\u001b[0;32m    704\u001b[0m     conn,\n\u001b[0;32m    705\u001b[0m     method,\n\u001b[0;32m    706\u001b[0m     url,\n\u001b[0;32m    707\u001b[0m     timeout\u001b[39m=\u001b[39;49mtimeout_obj,\n\u001b[0;32m    708\u001b[0m     body\u001b[39m=\u001b[39;49mbody,\n\u001b[0;32m    709\u001b[0m     headers\u001b[39m=\u001b[39;49mheaders,\n\u001b[0;32m    710\u001b[0m     chunked\u001b[39m=\u001b[39;49mchunked,\n\u001b[0;32m    711\u001b[0m )\n\u001b[0;32m    713\u001b[0m \u001b[39m# If we're going to release the connection in ``finally:``, then\u001b[39;00m\n\u001b[0;32m    714\u001b[0m \u001b[39m# the response doesn't need to know about the connection. Otherwise\u001b[39;00m\n\u001b[0;32m    715\u001b[0m \u001b[39m# it will also try to release it and we'll have a double-release\u001b[39;00m\n\u001b[0;32m    716\u001b[0m \u001b[39m# mess.\u001b[39;00m\n\u001b[0;32m    717\u001b[0m response_conn \u001b[39m=\u001b[39m conn \u001b[39mif\u001b[39;00m \u001b[39mnot\u001b[39;00m release_conn \u001b[39melse\u001b[39;00m \u001b[39mNone\u001b[39;00m\n",
      "File \u001b[1;32mc:\\Users\\vlamf\\Coding\\anaconda3\\lib\\site-packages\\urllib3\\connectionpool.py:386\u001b[0m, in \u001b[0;36mHTTPConnectionPool._make_request\u001b[1;34m(self, conn, method, url, timeout, chunked, **httplib_request_kw)\u001b[0m\n\u001b[0;32m    384\u001b[0m \u001b[39m# Trigger any extra validation we need to do.\u001b[39;00m\n\u001b[0;32m    385\u001b[0m \u001b[39mtry\u001b[39;00m:\n\u001b[1;32m--> 386\u001b[0m     \u001b[39mself\u001b[39;49m\u001b[39m.\u001b[39;49m_validate_conn(conn)\n\u001b[0;32m    387\u001b[0m \u001b[39mexcept\u001b[39;00m (SocketTimeout, BaseSSLError) \u001b[39mas\u001b[39;00m e:\n\u001b[0;32m    388\u001b[0m     \u001b[39m# Py2 raises this as a BaseSSLError, Py3 raises it as socket timeout.\u001b[39;00m\n\u001b[0;32m    389\u001b[0m     \u001b[39mself\u001b[39m\u001b[39m.\u001b[39m_raise_timeout(err\u001b[39m=\u001b[39me, url\u001b[39m=\u001b[39murl, timeout_value\u001b[39m=\u001b[39mconn\u001b[39m.\u001b[39mtimeout)\n",
      "File \u001b[1;32mc:\\Users\\vlamf\\Coding\\anaconda3\\lib\\site-packages\\urllib3\\connectionpool.py:1042\u001b[0m, in \u001b[0;36mHTTPSConnectionPool._validate_conn\u001b[1;34m(self, conn)\u001b[0m\n\u001b[0;32m   1040\u001b[0m \u001b[39m# Force connect early to allow us to validate the connection.\u001b[39;00m\n\u001b[0;32m   1041\u001b[0m \u001b[39mif\u001b[39;00m \u001b[39mnot\u001b[39;00m \u001b[39mgetattr\u001b[39m(conn, \u001b[39m\"\u001b[39m\u001b[39msock\u001b[39m\u001b[39m\"\u001b[39m, \u001b[39mNone\u001b[39;00m):  \u001b[39m# AppEngine might not have  `.sock`\u001b[39;00m\n\u001b[1;32m-> 1042\u001b[0m     conn\u001b[39m.\u001b[39;49mconnect()\n\u001b[0;32m   1044\u001b[0m \u001b[39mif\u001b[39;00m \u001b[39mnot\u001b[39;00m conn\u001b[39m.\u001b[39mis_verified:\n\u001b[0;32m   1045\u001b[0m     warnings\u001b[39m.\u001b[39mwarn(\n\u001b[0;32m   1046\u001b[0m         (\n\u001b[0;32m   1047\u001b[0m             \u001b[39m\"\u001b[39m\u001b[39mUnverified HTTPS request is being made to host \u001b[39m\u001b[39m'\u001b[39m\u001b[39m%s\u001b[39;00m\u001b[39m'\u001b[39m\u001b[39m. \u001b[39m\u001b[39m\"\u001b[39m\n\u001b[1;32m   (...)\u001b[0m\n\u001b[0;32m   1052\u001b[0m         InsecureRequestWarning,\n\u001b[0;32m   1053\u001b[0m     )\n",
      "File \u001b[1;32mc:\\Users\\vlamf\\Coding\\anaconda3\\lib\\site-packages\\urllib3\\connection.py:414\u001b[0m, in \u001b[0;36mHTTPSConnection.connect\u001b[1;34m(self)\u001b[0m\n\u001b[0;32m    405\u001b[0m \u001b[39mif\u001b[39;00m (\n\u001b[0;32m    406\u001b[0m     \u001b[39mnot\u001b[39;00m \u001b[39mself\u001b[39m\u001b[39m.\u001b[39mca_certs\n\u001b[0;32m    407\u001b[0m     \u001b[39mand\u001b[39;00m \u001b[39mnot\u001b[39;00m \u001b[39mself\u001b[39m\u001b[39m.\u001b[39mca_cert_dir\n\u001b[1;32m   (...)\u001b[0m\n\u001b[0;32m    410\u001b[0m     \u001b[39mand\u001b[39;00m \u001b[39mhasattr\u001b[39m(context, \u001b[39m\"\u001b[39m\u001b[39mload_default_certs\u001b[39m\u001b[39m\"\u001b[39m)\n\u001b[0;32m    411\u001b[0m ):\n\u001b[0;32m    412\u001b[0m     context\u001b[39m.\u001b[39mload_default_certs()\n\u001b[1;32m--> 414\u001b[0m \u001b[39mself\u001b[39m\u001b[39m.\u001b[39msock \u001b[39m=\u001b[39m ssl_wrap_socket(\n\u001b[0;32m    415\u001b[0m     sock\u001b[39m=\u001b[39;49mconn,\n\u001b[0;32m    416\u001b[0m     keyfile\u001b[39m=\u001b[39;49m\u001b[39mself\u001b[39;49m\u001b[39m.\u001b[39;49mkey_file,\n\u001b[0;32m    417\u001b[0m     certfile\u001b[39m=\u001b[39;49m\u001b[39mself\u001b[39;49m\u001b[39m.\u001b[39;49mcert_file,\n\u001b[0;32m    418\u001b[0m     key_password\u001b[39m=\u001b[39;49m\u001b[39mself\u001b[39;49m\u001b[39m.\u001b[39;49mkey_password,\n\u001b[0;32m    419\u001b[0m     ca_certs\u001b[39m=\u001b[39;49m\u001b[39mself\u001b[39;49m\u001b[39m.\u001b[39;49mca_certs,\n\u001b[0;32m    420\u001b[0m     ca_cert_dir\u001b[39m=\u001b[39;49m\u001b[39mself\u001b[39;49m\u001b[39m.\u001b[39;49mca_cert_dir,\n\u001b[0;32m    421\u001b[0m     ca_cert_data\u001b[39m=\u001b[39;49m\u001b[39mself\u001b[39;49m\u001b[39m.\u001b[39;49mca_cert_data,\n\u001b[0;32m    422\u001b[0m     server_hostname\u001b[39m=\u001b[39;49mserver_hostname,\n\u001b[0;32m    423\u001b[0m     ssl_context\u001b[39m=\u001b[39;49mcontext,\n\u001b[0;32m    424\u001b[0m     tls_in_tls\u001b[39m=\u001b[39;49mtls_in_tls,\n\u001b[0;32m    425\u001b[0m )\n\u001b[0;32m    427\u001b[0m \u001b[39m# If we're using all defaults and the connection\u001b[39;00m\n\u001b[0;32m    428\u001b[0m \u001b[39m# is TLSv1 or TLSv1.1 we throw a DeprecationWarning\u001b[39;00m\n\u001b[0;32m    429\u001b[0m \u001b[39m# for the host.\u001b[39;00m\n\u001b[0;32m    430\u001b[0m \u001b[39mif\u001b[39;00m (\n\u001b[0;32m    431\u001b[0m     default_ssl_context\n\u001b[0;32m    432\u001b[0m     \u001b[39mand\u001b[39;00m \u001b[39mself\u001b[39m\u001b[39m.\u001b[39mssl_version \u001b[39mis\u001b[39;00m \u001b[39mNone\u001b[39;00m\n\u001b[0;32m    433\u001b[0m     \u001b[39mand\u001b[39;00m \u001b[39mhasattr\u001b[39m(\u001b[39mself\u001b[39m\u001b[39m.\u001b[39msock, \u001b[39m\"\u001b[39m\u001b[39mversion\u001b[39m\u001b[39m\"\u001b[39m)\n\u001b[0;32m    434\u001b[0m     \u001b[39mand\u001b[39;00m \u001b[39mself\u001b[39m\u001b[39m.\u001b[39msock\u001b[39m.\u001b[39mversion() \u001b[39min\u001b[39;00m {\u001b[39m\"\u001b[39m\u001b[39mTLSv1\u001b[39m\u001b[39m\"\u001b[39m, \u001b[39m\"\u001b[39m\u001b[39mTLSv1.1\u001b[39m\u001b[39m\"\u001b[39m}\n\u001b[0;32m    435\u001b[0m ):\n",
      "File \u001b[1;32mc:\\Users\\vlamf\\Coding\\anaconda3\\lib\\site-packages\\urllib3\\util\\ssl_.py:449\u001b[0m, in \u001b[0;36mssl_wrap_socket\u001b[1;34m(sock, keyfile, certfile, cert_reqs, ca_certs, server_hostname, ssl_version, ciphers, ssl_context, ca_cert_dir, key_password, ca_cert_data, tls_in_tls)\u001b[0m\n\u001b[0;32m    437\u001b[0m     warnings\u001b[39m.\u001b[39mwarn(\n\u001b[0;32m    438\u001b[0m         \u001b[39m\"\u001b[39m\u001b[39mAn HTTPS request has been made, but the SNI (Server Name \u001b[39m\u001b[39m\"\u001b[39m\n\u001b[0;32m    439\u001b[0m         \u001b[39m\"\u001b[39m\u001b[39mIndication) extension to TLS is not available on this platform. \u001b[39m\u001b[39m\"\u001b[39m\n\u001b[1;32m   (...)\u001b[0m\n\u001b[0;32m    445\u001b[0m         SNIMissingWarning,\n\u001b[0;32m    446\u001b[0m     )\n\u001b[0;32m    448\u001b[0m \u001b[39mif\u001b[39;00m send_sni:\n\u001b[1;32m--> 449\u001b[0m     ssl_sock \u001b[39m=\u001b[39m _ssl_wrap_socket_impl(\n\u001b[0;32m    450\u001b[0m         sock, context, tls_in_tls, server_hostname\u001b[39m=\u001b[39;49mserver_hostname\n\u001b[0;32m    451\u001b[0m     )\n\u001b[0;32m    452\u001b[0m \u001b[39melse\u001b[39;00m:\n\u001b[0;32m    453\u001b[0m     ssl_sock \u001b[39m=\u001b[39m _ssl_wrap_socket_impl(sock, context, tls_in_tls)\n",
      "File \u001b[1;32mc:\\Users\\vlamf\\Coding\\anaconda3\\lib\\site-packages\\urllib3\\util\\ssl_.py:493\u001b[0m, in \u001b[0;36m_ssl_wrap_socket_impl\u001b[1;34m(sock, ssl_context, tls_in_tls, server_hostname)\u001b[0m\n\u001b[0;32m    490\u001b[0m     \u001b[39mreturn\u001b[39;00m SSLTransport(sock, ssl_context, server_hostname)\n\u001b[0;32m    492\u001b[0m \u001b[39mif\u001b[39;00m server_hostname:\n\u001b[1;32m--> 493\u001b[0m     \u001b[39mreturn\u001b[39;00m ssl_context\u001b[39m.\u001b[39;49mwrap_socket(sock, server_hostname\u001b[39m=\u001b[39;49mserver_hostname)\n\u001b[0;32m    494\u001b[0m \u001b[39melse\u001b[39;00m:\n\u001b[0;32m    495\u001b[0m     \u001b[39mreturn\u001b[39;00m ssl_context\u001b[39m.\u001b[39mwrap_socket(sock)\n",
      "File \u001b[1;32mc:\\Users\\vlamf\\Coding\\anaconda3\\lib\\ssl.py:513\u001b[0m, in \u001b[0;36mSSLContext.wrap_socket\u001b[1;34m(self, sock, server_side, do_handshake_on_connect, suppress_ragged_eofs, server_hostname, session)\u001b[0m\n\u001b[0;32m    507\u001b[0m \u001b[39mdef\u001b[39;00m \u001b[39mwrap_socket\u001b[39m(\u001b[39mself\u001b[39m, sock, server_side\u001b[39m=\u001b[39m\u001b[39mFalse\u001b[39;00m,\n\u001b[0;32m    508\u001b[0m                 do_handshake_on_connect\u001b[39m=\u001b[39m\u001b[39mTrue\u001b[39;00m,\n\u001b[0;32m    509\u001b[0m                 suppress_ragged_eofs\u001b[39m=\u001b[39m\u001b[39mTrue\u001b[39;00m,\n\u001b[0;32m    510\u001b[0m                 server_hostname\u001b[39m=\u001b[39m\u001b[39mNone\u001b[39;00m, session\u001b[39m=\u001b[39m\u001b[39mNone\u001b[39;00m):\n\u001b[0;32m    511\u001b[0m     \u001b[39m# SSLSocket class handles server_hostname encoding before it calls\u001b[39;00m\n\u001b[0;32m    512\u001b[0m     \u001b[39m# ctx._wrap_socket()\u001b[39;00m\n\u001b[1;32m--> 513\u001b[0m     \u001b[39mreturn\u001b[39;00m \u001b[39mself\u001b[39;49m\u001b[39m.\u001b[39;49msslsocket_class\u001b[39m.\u001b[39;49m_create(\n\u001b[0;32m    514\u001b[0m         sock\u001b[39m=\u001b[39;49msock,\n\u001b[0;32m    515\u001b[0m         server_side\u001b[39m=\u001b[39;49mserver_side,\n\u001b[0;32m    516\u001b[0m         do_handshake_on_connect\u001b[39m=\u001b[39;49mdo_handshake_on_connect,\n\u001b[0;32m    517\u001b[0m         suppress_ragged_eofs\u001b[39m=\u001b[39;49msuppress_ragged_eofs,\n\u001b[0;32m    518\u001b[0m         server_hostname\u001b[39m=\u001b[39;49mserver_hostname,\n\u001b[0;32m    519\u001b[0m         context\u001b[39m=\u001b[39;49m\u001b[39mself\u001b[39;49m,\n\u001b[0;32m    520\u001b[0m         session\u001b[39m=\u001b[39;49msession\n\u001b[0;32m    521\u001b[0m     )\n",
      "File \u001b[1;32mc:\\Users\\vlamf\\Coding\\anaconda3\\lib\\ssl.py:1071\u001b[0m, in \u001b[0;36mSSLSocket._create\u001b[1;34m(cls, sock, server_side, do_handshake_on_connect, suppress_ragged_eofs, server_hostname, context, session)\u001b[0m\n\u001b[0;32m   1068\u001b[0m         \u001b[39mif\u001b[39;00m timeout \u001b[39m==\u001b[39m \u001b[39m0.0\u001b[39m:\n\u001b[0;32m   1069\u001b[0m             \u001b[39m# non-blocking\u001b[39;00m\n\u001b[0;32m   1070\u001b[0m             \u001b[39mraise\u001b[39;00m \u001b[39mValueError\u001b[39;00m(\u001b[39m\"\u001b[39m\u001b[39mdo_handshake_on_connect should not be specified for non-blocking sockets\u001b[39m\u001b[39m\"\u001b[39m)\n\u001b[1;32m-> 1071\u001b[0m         \u001b[39mself\u001b[39;49m\u001b[39m.\u001b[39;49mdo_handshake()\n\u001b[0;32m   1072\u001b[0m \u001b[39mexcept\u001b[39;00m (\u001b[39mOSError\u001b[39;00m, \u001b[39mValueError\u001b[39;00m):\n\u001b[0;32m   1073\u001b[0m     \u001b[39mself\u001b[39m\u001b[39m.\u001b[39mclose()\n",
      "File \u001b[1;32mc:\\Users\\vlamf\\Coding\\anaconda3\\lib\\ssl.py:1342\u001b[0m, in \u001b[0;36mSSLSocket.do_handshake\u001b[1;34m(self, block)\u001b[0m\n\u001b[0;32m   1340\u001b[0m     \u001b[39mif\u001b[39;00m timeout \u001b[39m==\u001b[39m \u001b[39m0.0\u001b[39m \u001b[39mand\u001b[39;00m block:\n\u001b[0;32m   1341\u001b[0m         \u001b[39mself\u001b[39m\u001b[39m.\u001b[39msettimeout(\u001b[39mNone\u001b[39;00m)\n\u001b[1;32m-> 1342\u001b[0m     \u001b[39mself\u001b[39;49m\u001b[39m.\u001b[39;49m_sslobj\u001b[39m.\u001b[39;49mdo_handshake()\n\u001b[0;32m   1343\u001b[0m \u001b[39mfinally\u001b[39;00m:\n\u001b[0;32m   1344\u001b[0m     \u001b[39mself\u001b[39m\u001b[39m.\u001b[39msettimeout(timeout)\n",
      "\u001b[1;31mKeyboardInterrupt\u001b[0m: "
     ]
    }
   ],
   "source": [
    "season = 2023\n",
    "event_num = 3\n",
    "session_type = 'R'\n",
    "\n",
    "session_data = get_session_data(season, event_num, session_type)\n",
    "print(session_data)\n",
    "\n",
    "completed_events = get_completed_events(season)\n",
    "# print(completed_events)\n",
    "completed_sessions = get_completed_sessions(season, completed_events, session_type) \n",
    "print(completed_sessions[1])"
   ]
  },
  {
   "cell_type": "code",
   "execution_count": null,
   "id": "221b5b9f-2006-439a-b650-385303cc7d76",
   "metadata": {},
   "outputs": [
    {
     "name": "stdout",
     "output_type": "stream",
     "text": [
      "[   DriverNumber BroadcastName Abbreviation         TeamName TeamColor  \\\n",
      "1             1  M VERSTAPPEN          VER  Red Bull Racing    3671C6   \n",
      "11           11       S PEREZ          PER  Red Bull Racing    3671C6   \n",
      "14           14      F ALONSO          ALO     Aston Martin    358C75   \n",
      "55           55       C SAINZ          SAI          Ferrari    F91536   \n",
      "44           44    L HAMILTON          HAM         Mercedes    6CD3BF   \n",
      "18           18      L STROLL          STR     Aston Martin    358C75   \n",
      "63           63     G RUSSELL          RUS         Mercedes    6CD3BF   \n",
      "77           77      V BOTTAS          BOT       Alfa Romeo    C92D4B   \n",
      "10           10       P GASLY          GAS           Alpine    2293D1   \n",
      "23           23       A ALBON          ALB         Williams    37BEDD   \n",
      "22           22     Y TSUNODA          TSU       AlphaTauri    5E8FAA   \n",
      "2             2    L SARGEANT          SAR         Williams    37BEDD   \n",
      "20           20   K MAGNUSSEN          MAG     Haas F1 Team    B6BABD   \n",
      "21           21    N DE VRIES          DEV       AlphaTauri    5E8FAA   \n",
      "27           27  N HULKENBERG          HUL     Haas F1 Team    B6BABD   \n",
      "24           24        G ZHOU          ZHO       Alfa Romeo    C92D4B   \n",
      "4             4      L NORRIS          NOR          McLaren    F58020   \n",
      "31           31        E OCON          OCO           Alpine    2293D1   \n",
      "16           16     C LECLERC          LEC          Ferrari    F91536   \n",
      "81           81     O PIASTRI          PIA          McLaren    F58020   \n",
      "\n",
      "    FirstName    LastName         FullName  Position  GridPosition  Q1  Q2  \\\n",
      "1         Max  Verstappen   Max Verstappen       1.0           1.0 NaT NaT   \n",
      "11     Sergio       Perez     Sergio Perez       2.0           2.0 NaT NaT   \n",
      "14   Fernando      Alonso  Fernando Alonso       3.0           5.0 NaT NaT   \n",
      "55     Carlos       Sainz     Carlos Sainz       4.0           4.0 NaT NaT   \n",
      "44      Lewis    Hamilton   Lewis Hamilton       5.0           7.0 NaT NaT   \n",
      "18      Lance      Stroll     Lance Stroll       6.0           8.0 NaT NaT   \n",
      "63     George     Russell   George Russell       7.0           6.0 NaT NaT   \n",
      "77   Valtteri      Bottas  Valtteri Bottas       8.0          12.0 NaT NaT   \n",
      "10     Pierre       Gasly     Pierre Gasly       9.0          20.0 NaT NaT   \n",
      "23  Alexander       Albon  Alexander Albon      10.0          15.0 NaT NaT   \n",
      "22       Yuki     Tsunoda     Yuki Tsunoda      11.0          14.0 NaT NaT   \n",
      "2       Logan    Sargeant   Logan Sargeant      12.0          16.0 NaT NaT   \n",
      "20      Kevin   Magnussen  Kevin Magnussen      13.0          17.0 NaT NaT   \n",
      "21       Nyck    De Vries    Nyck De Vries      14.0          19.0 NaT NaT   \n",
      "27       Nico  Hulkenberg  Nico Hulkenberg      15.0          10.0 NaT NaT   \n",
      "24     Guanyu        Zhou      Guanyu Zhou      16.0          13.0 NaT NaT   \n",
      "4       Lando      Norris     Lando Norris      17.0          11.0 NaT NaT   \n",
      "31    Esteban        Ocon     Esteban Ocon      18.0           9.0 NaT NaT   \n",
      "16    Charles     Leclerc  Charles Leclerc      19.0           3.0 NaT NaT   \n",
      "81      Oscar     Piastri    Oscar Piastri      20.0          18.0 NaT NaT   \n",
      "\n",
      "    Q3                   Time      Status  Points  \n",
      "1  NaT 0 days 01:33:56.736000    Finished    25.0  \n",
      "11 NaT 0 days 01:34:08.723000    Finished    18.0  \n",
      "14 NaT 0 days 01:34:35.373000    Finished    15.0  \n",
      "55 NaT 0 days 01:34:44.788000    Finished    12.0  \n",
      "44 NaT 0 days 01:34:47.713000    Finished    10.0  \n",
      "18 NaT 0 days 01:34:51.238000    Finished     8.0  \n",
      "63 NaT 0 days 01:34:52.609000    Finished     6.0  \n",
      "77 NaT 0 days 01:35:09.383000    Finished     4.0  \n",
      "10 NaT 0 days 01:35:10.489000    Finished     2.0  \n",
      "23 NaT 0 days 01:35:26.510000    Finished     1.0  \n",
      "22 NaT 0 days 01:35:27.606000    Finished     0.0  \n",
      "2  NaT                    NaT      +1 Lap     0.0  \n",
      "20 NaT                    NaT      +1 Lap     0.0  \n",
      "21 NaT                    NaT      +1 Lap     0.0  \n",
      "27 NaT                    NaT      +1 Lap     0.0  \n",
      "24 NaT                    NaT      +1 Lap     0.0  \n",
      "4  NaT                    NaT     +2 Laps     0.0  \n",
      "31 NaT                    NaT  Mechanical     0.0  \n",
      "16 NaT                    NaT      Engine     0.0  \n",
      "81 NaT                    NaT  Electrical     0.0  ,    DriverNumber BroadcastName Abbreviation         TeamName TeamColor  \\\n",
      "11           11       S PEREZ          PER  Red Bull Racing    3671C6   \n",
      "1             1  M VERSTAPPEN          VER  Red Bull Racing    3671C6   \n",
      "14           14      F ALONSO          ALO     Aston Martin    358C75   \n",
      "63           63     G RUSSELL          RUS         Mercedes    6CD3BF   \n",
      "44           44    L HAMILTON          HAM         Mercedes    6CD3BF   \n",
      "55           55       C SAINZ          SAI          Ferrari    F91536   \n",
      "16           16     C LECLERC          LEC          Ferrari    F91536   \n",
      "31           31        E OCON          OCO           Alpine    2293D1   \n",
      "10           10       P GASLY          GAS           Alpine    2293D1   \n",
      "20           20   K MAGNUSSEN          MAG     Haas F1 Team    B6BABD   \n",
      "22           22     Y TSUNODA          TSU       AlphaTauri    5E8FAA   \n",
      "27           27  N HULKENBERG          HUL     Haas F1 Team    B6BABD   \n",
      "24           24        G ZHOU          ZHO       Alfa Romeo    C92D4B   \n",
      "21           21    N DE VRIES          DEV       AlphaTauri    5E8FAA   \n",
      "81           81     O PIASTRI          PIA          McLaren    F58020   \n",
      "2             2    L SARGEANT          SAR         Williams    37BEDD   \n",
      "4             4      L NORRIS          NOR          McLaren    F58020   \n",
      "77           77      V BOTTAS          BOT       Alfa Romeo    C92D4B   \n",
      "23           23       A ALBON          ALB         Williams    37BEDD   \n",
      "18           18      L STROLL          STR     Aston Martin    358C75   \n",
      "\n",
      "    FirstName    LastName         FullName  Position  GridPosition  Q1  Q2  \\\n",
      "11     Sergio       Perez     Sergio Perez       1.0           1.0 NaT NaT   \n",
      "1         Max  Verstappen   Max Verstappen       2.0          15.0 NaT NaT   \n",
      "14   Fernando      Alonso  Fernando Alonso       3.0           2.0 NaT NaT   \n",
      "63     George     Russell   George Russell       4.0           3.0 NaT NaT   \n",
      "44      Lewis    Hamilton   Lewis Hamilton       5.0           7.0 NaT NaT   \n",
      "55     Carlos       Sainz     Carlos Sainz       6.0           4.0 NaT NaT   \n",
      "16    Charles     Leclerc  Charles Leclerc       7.0          12.0 NaT NaT   \n",
      "31    Esteban        Ocon     Esteban Ocon       8.0           6.0 NaT NaT   \n",
      "10     Pierre       Gasly     Pierre Gasly       9.0           9.0 NaT NaT   \n",
      "20      Kevin   Magnussen  Kevin Magnussen      10.0          13.0 NaT NaT   \n",
      "22       Yuki     Tsunoda     Yuki Tsunoda      11.0          16.0 NaT NaT   \n",
      "27       Nico  Hulkenberg  Nico Hulkenberg      12.0          10.0 NaT NaT   \n",
      "24     Guanyu        Zhou      Guanyu Zhou      13.0          11.0 NaT NaT   \n",
      "21       Nyck    De Vries    Nyck De Vries      14.0          18.0 NaT NaT   \n",
      "81      Oscar     Piastri    Oscar Piastri      15.0           8.0 NaT NaT   \n",
      "2       Logan    Sargeant   Logan Sargeant      16.0          20.0 NaT NaT   \n",
      "4       Lando      Norris     Lando Norris      17.0          19.0 NaT NaT   \n",
      "77   Valtteri      Bottas  Valtteri Bottas      18.0          14.0 NaT NaT   \n",
      "23  Alexander       Albon  Alexander Albon      19.0          17.0 NaT NaT   \n",
      "18      Lance      Stroll     Lance Stroll      20.0           5.0 NaT NaT   \n",
      "\n",
      "    Q3                   Time    Status  Points  \n",
      "11 NaT 0 days 01:21:14.894000  Finished    25.0  \n",
      "1  NaT 0 days 01:21:20.249000  Finished    19.0  \n",
      "14 NaT 0 days 01:21:35.622000  Finished    15.0  \n",
      "63 NaT 0 days 01:21:40.760000  Finished    12.0  \n",
      "44 NaT 0 days 01:21:45.959000  Finished    10.0  \n",
      "55 NaT 0 days 01:21:50.770000  Finished     8.0  \n",
      "16 NaT 0 days 01:21:58.056000  Finished     6.0  \n",
      "31 NaT 0 days 01:22:07.726000  Finished     4.0  \n",
      "10 NaT 0 days 01:22:09.641000  Finished     2.0  \n",
      "20 NaT 0 days 01:22:19.720000  Finished     1.0  \n",
      "22 NaT 0 days 01:22:22.388000  Finished     0.0  \n",
      "27 NaT 0 days 01:22:25.482000  Finished     0.0  \n",
      "24 NaT 0 days 01:22:30.954000  Finished     0.0  \n",
      "21 NaT 0 days 01:22:32.372000  Finished     0.0  \n",
      "81 NaT 0 days 01:22:39.915000  Finished     0.0  \n",
      "2  NaT 0 days 01:22:41.187000  Finished     0.0  \n",
      "4  NaT 0 days 01:22:41.339000  Finished     0.0  \n",
      "77 NaT                    NaT    +1 Lap     0.0  \n",
      "23 NaT                    NaT    Brakes     0.0  \n",
      "18 NaT                    NaT    Engine     0.0  ,    DriverNumber BroadcastName Abbreviation         TeamName TeamColor  \\\n",
      "1             1  M VERSTAPPEN          VER  Red Bull Racing    3671C6   \n",
      "44           44    L HAMILTON          HAM         Mercedes    6CD3BF   \n",
      "14           14      F ALONSO          ALO     Aston Martin    358C75   \n",
      "18           18      L STROLL          STR     Aston Martin    358C75   \n",
      "11           11       S PEREZ          PER  Red Bull Racing    3671C6   \n",
      "4             4      L NORRIS          NOR          McLaren    F58020   \n",
      "27           27  N HULKENBERG          HUL     Haas F1 Team    B6BABD   \n",
      "81           81     O PIASTRI          PIA          McLaren    F58020   \n",
      "24           24        G ZHOU          ZHO       Alfa Romeo    C92D4B   \n",
      "22           22     Y TSUNODA          TSU       AlphaTauri    5E8FAA   \n",
      "77           77      V BOTTAS          BOT       Alfa Romeo    C92D4B   \n",
      "55           55       C SAINZ          SAI          Ferrari    F91536   \n",
      "10           10       P GASLY          GAS           Alpine    2293D1   \n",
      "31           31        E OCON          OCO           Alpine    2293D1   \n",
      "21           21    N DE VRIES          DEV       AlphaTauri    5E8FAA   \n",
      "2             2    L SARGEANT          SAR         Williams    37BEDD   \n",
      "20           20   K MAGNUSSEN          MAG     Haas F1 Team    B6BABD   \n",
      "63           63     G RUSSELL          RUS         Mercedes    6CD3BF   \n",
      "23           23       A ALBON          ALB         Williams    37BEDD   \n",
      "16           16     C LECLERC          LEC          Ferrari    F91536   \n",
      "\n",
      "    FirstName    LastName         FullName  Position  GridPosition  Q1  Q2  \\\n",
      "1         Max  Verstappen   Max Verstappen       1.0           1.0 NaT NaT   \n",
      "44      Lewis    Hamilton   Lewis Hamilton       2.0           3.0 NaT NaT   \n",
      "14   Fernando      Alonso  Fernando Alonso       3.0           4.0 NaT NaT   \n",
      "18      Lance      Stroll     Lance Stroll       4.0           6.0 NaT NaT   \n",
      "11     Sergio       Perez     Sergio Perez       5.0           0.0 NaT NaT   \n",
      "4       Lando      Norris     Lando Norris       6.0          13.0 NaT NaT   \n",
      "27       Nico  Hulkenberg  Nico Hulkenberg       7.0          10.0 NaT NaT   \n",
      "81      Oscar     Piastri    Oscar Piastri       8.0          16.0 NaT NaT   \n",
      "24     Guanyu        Zhou      Guanyu Zhou       9.0          17.0 NaT NaT   \n",
      "22       Yuki     Tsunoda     Yuki Tsunoda      10.0          12.0 NaT NaT   \n",
      "77   Valtteri      Bottas  Valtteri Bottas      11.0           0.0 NaT NaT   \n",
      "55     Carlos       Sainz     Carlos Sainz      12.0           5.0 NaT NaT   \n",
      "10     Pierre       Gasly     Pierre Gasly      13.0           9.0 NaT NaT   \n",
      "31    Esteban        Ocon     Esteban Ocon      14.0          11.0 NaT NaT   \n",
      "21       Nyck    De Vries    Nyck De Vries      15.0          15.0 NaT NaT   \n",
      "2       Logan    Sargeant   Logan Sargeant      16.0          18.0 NaT NaT   \n",
      "20      Kevin   Magnussen  Kevin Magnussen      17.0          14.0 NaT NaT   \n",
      "63     George     Russell   George Russell      18.0           2.0 NaT NaT   \n",
      "23  Alexander       Albon  Alexander Albon      19.0           8.0 NaT NaT   \n",
      "16    Charles     Leclerc  Charles Leclerc      20.0           7.0 NaT NaT   \n",
      "\n",
      "    Q3                   Time     Status  Points  \n",
      "1  NaT 0 days 02:32:38.371000   Finished    25.0  \n",
      "44 NaT 0 days 02:32:38.550000   Finished    18.0  \n",
      "14 NaT 0 days 02:32:39.140000   Finished    15.0  \n",
      "18 NaT 0 days 02:32:41.453000   Finished    12.0  \n",
      "11 NaT 0 days 02:32:41.691000   Finished    11.0  \n",
      "4  NaT 0 days 02:32:42.072000   Finished     8.0  \n",
      "27 NaT 0 days 02:32:43.310000   Finished     6.0  \n",
      "81 NaT 0 days 02:32:43.753000   Finished     4.0  \n",
      "24 NaT 0 days 02:32:44.084000   Finished     2.0  \n",
      "22 NaT 0 days 02:32:44.423000   Finished     1.0  \n",
      "77 NaT 0 days 02:32:44.884000   Finished     0.0  \n",
      "55 NaT 0 days 02:32:44.965000   Finished     0.0  \n",
      "10 NaT                    NaT  Collision     0.0  \n",
      "31 NaT                    NaT  Collision     0.0  \n",
      "21 NaT                    NaT  Collision     0.0  \n",
      "2  NaT                    NaT  Collision     0.0  \n",
      "20 NaT                    NaT   Accident     0.0  \n",
      "63 NaT                    NaT     Engine     0.0  \n",
      "23 NaT                    NaT   Accident     0.0  \n",
      "16 NaT                    NaT  Collision     0.0  ]\n"
     ]
    }
   ],
   "source": [
    "results_list = [session.results for session in completed_sessions]\n",
    "save_df_list_to_csv(results_list)\n",
    "print(results_list)"
   ]
  },
  {
   "attachments": {},
   "cell_type": "markdown",
   "id": "0bce7641",
   "metadata": {},
   "source": [
    "## Connect to MySQL f1stats Schema"
   ]
  },
  {
   "cell_type": "code",
   "execution_count": 14,
   "id": "2a605f22-15bc-4345-8a58-a288a969d5c8",
   "metadata": {},
   "outputs": [],
   "source": [
    "import mysql.connector\n",
    "import json\n",
    "\n",
    "with open('private_config.json', 'r') as file:\n",
    "\tconfig_data = json.load(file)\n",
    "\n",
    "\n",
    "mydb = mysql.connector.connect(\n",
    "  host=config_data['db_host'],\n",
    "  user=config_data['db_user'],\n",
    "  password=config_data['db_password'],\n",
    "  database=config_data['db_database']\n",
    ")\n",
    "\n",
    "mycursor = mydb.cursor()"
   ]
  },
  {
   "cell_type": "code",
   "execution_count": null,
   "id": "3615eda9",
   "metadata": {},
   "outputs": [
    {
     "name": "stdout",
     "output_type": "stream",
     "text": [
      "(1, 'AlphaTauri', 3)\n",
      "(2, 'Haas', 1)\n",
      "(3, 'McLaren', 5)\n",
      "(4, 'Williams', 7)\n",
      "(5, 'Red Bull Racing', 800)\n",
      "(6, 'Aston Martin', 1000)\n",
      "(7, 'Asiton Martin', 10000)\n"
     ]
    }
   ],
   "source": [
    "insertStmt = '''\n",
    "INSERT INTO teams\n",
    "(name, points)\n",
    "VALUES\n",
    "('Asiton Martin', 10000)\n",
    ";\n",
    "'''\n",
    "mycursor.execute(insertStmt)\n",
    "\n",
    "mydb.commit()\n",
    "\n",
    "selectStmt = '''\n",
    "SELECT * FROM teams\n",
    ";\n",
    "'''\n",
    "mycursor.execute(selectStmt)\n",
    "\n",
    "results = mycursor.fetchall()\n",
    "for row in results:\n",
    "\tprint(row)"
   ]
  },
  {
   "cell_type": "code",
   "execution_count": null,
   "id": "187800a1",
   "metadata": {},
   "outputs": [],
   "source": []
  }
 ],
 "metadata": {
  "kernelspec": {
   "display_name": "Python 3 (ipykernel)",
   "language": "python",
   "name": "python3"
  },
  "language_info": {
   "codemirror_mode": {
    "name": "ipython",
    "version": 3
   },
   "file_extension": ".py",
   "mimetype": "text/x-python",
   "name": "python",
   "nbconvert_exporter": "python",
   "pygments_lexer": "ipython3",
   "version": "3.10.9"
  }
 },
 "nbformat": 4,
 "nbformat_minor": 5
}
