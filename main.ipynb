{
 "cells": [
  {
   "cell_type": "markdown",
   "id": "f6402645-7e16-406b-b798-01cb6d63d8c8",
   "metadata": {},
   "source": [
    "# F1 Fantasy Program"
   ]
  },
  {
   "cell_type": "markdown",
   "id": "0ddf7bd9-28c2-440e-8eff-14c9e15df9e1",
   "metadata": {},
   "source": [
    "## ReadMe\n",
    "\n",
    "The goal of this program is to webscrape, and gather, F1 data. The data would then be saved, transformed, and analysed."
   ]
  },
  {
   "attachments": {},
   "cell_type": "markdown",
   "id": "c428dd45",
   "metadata": {},
   "source": [
    "# Imports"
   ]
  },
  {
   "attachments": {},
   "cell_type": "markdown",
   "id": "01b9e7b7",
   "metadata": {},
   "source": [
    "#### FastF1"
   ]
  },
  {
   "cell_type": "code",
   "execution_count": 54,
   "id": "3f5b3bfa-5a35-4ed8-a94e-38a2e2eb19d2",
   "metadata": {},
   "outputs": [],
   "source": [
    "from datetime import datetime\n",
    "from bs4 import BeautifulSoup\n",
    "import pandas as pd\n",
    "import requests\n",
    "import glob\n",
    "\n",
    "import fastf1"
   ]
  },
  {
   "cell_type": "code",
   "execution_count": 55,
   "id": "299a2c29",
   "metadata": {},
   "outputs": [],
   "source": [
    "from datetime import datetime"
   ]
  },
  {
   "attachments": {},
   "cell_type": "markdown",
   "id": "237855cd",
   "metadata": {},
   "source": [
    "#### MySQL"
   ]
  },
  {
   "cell_type": "code",
   "execution_count": 56,
   "id": "59e3bed4",
   "metadata": {},
   "outputs": [],
   "source": [
    "import mysql.connector\n",
    "import json"
   ]
  },
  {
   "cell_type": "code",
   "execution_count": 57,
   "id": "48de04ee",
   "metadata": {},
   "outputs": [],
   "source": [
    "import glob\n",
    "import csv"
   ]
  },
  {
   "cell_type": "markdown",
   "id": "b3cf2d64-c108-46f4-907b-aee072da55db",
   "metadata": {},
   "source": [
    "### Ignore Warnings"
   ]
  },
  {
   "cell_type": "code",
   "execution_count": 58,
   "id": "71df1cbd-a74d-4efb-b3a2-05483bbb2c63",
   "metadata": {},
   "outputs": [],
   "source": [
    "import warnings\n",
    "warnings.filterwarnings('ignore', category=FutureWarning)"
   ]
  },
  {
   "attachments": {},
   "cell_type": "markdown",
   "id": "fb0a0bdd-edbc-41ee-8624-d333e30eba78",
   "metadata": {},
   "source": [
    "# FastF1 Data Aquisition"
   ]
  },
  {
   "cell_type": "markdown",
   "id": "dfc43b1c-45db-49a4-849d-d2022e281d54",
   "metadata": {},
   "source": [
    "### Enable Caching"
   ]
  },
  {
   "cell_type": "code",
   "execution_count": 59,
   "id": "f16b77f2-cd21-49d2-9ab9-16fae158bd08",
   "metadata": {},
   "outputs": [],
   "source": [
    "fastf1.Cache.enable_cache('cache')"
   ]
  },
  {
   "attachments": {},
   "cell_type": "markdown",
   "id": "a8398f76-5516-4300-a5d9-5e0496f4525b",
   "metadata": {},
   "source": [
    "### Get the completed events (race weekends) of the season (year)"
   ]
  },
  {
   "cell_type": "code",
   "execution_count": 60,
   "id": "b3c4da87-d094-451f-9dfa-07098243c999",
   "metadata": {},
   "outputs": [],
   "source": [
    "def get_completed_events(season, b_print=False):\n",
    "    # Retrieve the event schedule for the given season using the fastf1 library\n",
    "    schedule = fastf1.get_event_schedule(season)\n",
    "    \n",
    "    # Initialize an empty list to store completed events\n",
    "    completed_events = []\n",
    "\n",
    "    # Loop through the round numbers in the event schedule, skipping the first one (index 0)\n",
    "    for event in schedule['RoundNumber'][1:]:\n",
    "        # Check if the event date is in the past (i.e., the event is completed)\n",
    "        if schedule['EventDate'][event] < datetime.now():\n",
    "            # Append the completed event to the completed_events list\n",
    "            completed_events.append(schedule.iloc[[event]])\n",
    "\n",
    "    # Return the list of completed events\n",
    "    return completed_events\n",
    "\t\n",
    "# Commented by GPT4"
   ]
  },
  {
   "attachments": {},
   "cell_type": "markdown",
   "id": "d473d5e6",
   "metadata": {},
   "source": [
    "### Get Amount of completed events of the season (year)"
   ]
  },
  {
   "cell_type": "code",
   "execution_count": 65,
   "id": "7dbc3f3c",
   "metadata": {},
   "outputs": [],
   "source": [
    "def get_completed_events_count(season):\n",
    "\tcount = len(get_completed_events(season))\n",
    "\treturn count"
   ]
  },
  {
   "cell_type": "markdown",
   "id": "b67041d4-3bfc-4b04-b9c5-15d228000df5",
   "metadata": {},
   "source": [
    "### Load the data of a completed session"
   ]
  },
  {
   "cell_type": "code",
   "execution_count": 61,
   "id": "8f35f08b-68ae-4cab-9fa4-21ad3a2639cc",
   "metadata": {},
   "outputs": [],
   "source": [
    "def get_session_data(season, event_num, session_type):\n",
    "    df_session = fastf1.get_session(season, event_num, session_type)\n",
    "    df_session.load()\n",
    "    return df_session"
   ]
  },
  {
   "cell_type": "markdown",
   "id": "a420ef02-901f-468a-986f-b694d58d2685",
   "metadata": {},
   "source": [
    "### Load the data of all the completed sessions"
   ]
  },
  {
   "cell_type": "code",
   "execution_count": 53,
   "id": "f474f19d-d4f0-4346-8b18-163129fd144f",
   "metadata": {},
   "outputs": [],
   "source": [
    "def get_completed_sessions(season, completed_events, session_type):\n",
    "    # Initialize an empty list to store completed sessions\n",
    "    completed_sessions = []\n",
    "\n",
    "    # Loop through the completed_events list, using the enumerate function to keep track of the index\n",
    "    for i, event in enumerate(completed_events):\n",
    "        # Get the session data for the current event and append it to the list of completed sessions\n",
    "        session = get_session_data(season, event['RoundNumber'], session_type)\n",
    "        completed_sessions.append(session)\n",
    "\n",
    "    # Return the list of completed sessions\n",
    "    return completed_sessions\n",
    "\n",
    "# commented by GPT3.5"
   ]
  },
  {
   "attachments": {},
   "cell_type": "markdown",
   "id": "ea4a3436",
   "metadata": {},
   "source": [
    "### Get All Completed Sessions' data"
   ]
  },
  {
   "cell_type": "code",
   "execution_count": 36,
   "id": "72295b8b-68ed-4c0f-b364-7116e9243eca",
   "metadata": {},
   "outputs": [],
   "source": [
    "def get_completed_sessions(season, completed_events, session_type):\n",
    "    # Returns a list of dataframes\n",
    "    completed_sessions = []\n",
    "\n",
    "    for event_df in completed_events:\n",
    "        for _, event in event_df.iterrows():\n",
    "            session = get_session_data(season, event['RoundNumber'], session_type)\n",
    "            completed_sessions.append(session)\n",
    "\n",
    "    return completed_sessions\n"
   ]
  },
  {
   "attachments": {},
   "cell_type": "markdown",
   "id": "56784565",
   "metadata": {},
   "source": [
    "### Get All Outstanding Sessions' data"
   ]
  },
  {
   "attachments": {},
   "cell_type": "markdown",
   "id": "9bd6664f",
   "metadata": {},
   "source": [
    "###### Get the data of the sessions that have not yet been collected."
   ]
  },
  {
   "cell_type": "code",
   "execution_count": 37,
   "id": "c4bb885c",
   "metadata": {},
   "outputs": [],
   "source": [
    "\n"
   ]
  },
  {
   "attachments": {},
   "cell_type": "markdown",
   "id": "fa14d014-5a66-452c-b17e-0b099fc46e09",
   "metadata": {},
   "source": [
    "### Save sessions to csv"
   ]
  },
  {
   "cell_type": "code",
   "execution_count": 38,
   "id": "ca9d5a7f-575b-4e00-b210-9a3a182fe245",
   "metadata": {},
   "outputs": [],
   "source": [
    "def save_df_list_to_csv(dataframe_list, name=\"dataframe\"):\n",
    "    for i, dataframe in enumerate(dataframe_list):\n",
    "        file_name = name + '_' + str(i) + '.csv'\n",
    "        dataframe.to_csv(file_name)"
   ]
  },
  {
   "attachments": {},
   "cell_type": "markdown",
   "id": "bfa9a30d",
   "metadata": {},
   "source": [
    "### Log Loaded Race"
   ]
  },
  {
   "cell_type": "code",
   "execution_count": 43,
   "id": "42aa2721",
   "metadata": {},
   "outputs": [],
   "source": [
    "loaded_races_logfile = 'loaded_races_logfile.txt'"
   ]
  },
  {
   "cell_type": "code",
   "execution_count": 44,
   "id": "c15a1836",
   "metadata": {},
   "outputs": [],
   "source": [
    "def log_loaded_race(race_number):\n",
    "\ttimestamp_format = '%Y-%h-%d-%H:%M:%S' #Year-Monthname-Day-Hour-Minute-Second\n",
    "\tnow = datetime.now()\n",
    "\ttimestamp = now.strftime(timestamp_format)\n",
    "\twith open(loaded_races_logfile, 'a') as log:\n",
    "\t\tlog.write(timestamp + ','+race_number+'\\n')"
   ]
  },
  {
   "attachments": {},
   "cell_type": "markdown",
   "id": "abbfe434",
   "metadata": {},
   "source": [
    "### Read logfile"
   ]
  },
  {
   "cell_type": "code",
   "execution_count": 45,
   "id": "ca8b4db2",
   "metadata": {},
   "outputs": [],
   "source": [
    "def read_loaded_races_logfile():\n",
    "\tloaded_races = []\n",
    "\twith open(loaded_races_logfile, 'r') as log:\n",
    "\t\tfor line in log.readlines():\n",
    "\t\t\tfields = line.strip().split(',')\n",
    "\t\t\tloaded_races.append(fields[1])\n",
    "\t\n",
    "\treturn loaded_races"
   ]
  },
  {
   "attachments": {},
   "cell_type": "markdown",
   "id": "1f892ec0",
   "metadata": {},
   "source": [
    "### Find missing races"
   ]
  },
  {
   "cell_type": "code",
   "execution_count": 46,
   "id": "c28cae38",
   "metadata": {},
   "outputs": [],
   "source": [
    "def find_missing_races(races_list):\n",
    "\t# given a list of races, it finds the numbers that are missing\n",
    "\tmissing = set(range(min(races_list), max(races_list)+1)) - set(races_list)\n",
    "\treturn missing"
   ]
  },
  {
   "attachments": {},
   "cell_type": "markdown",
   "id": "d4836f3a",
   "metadata": {},
   "source": [
    "# Webscraping"
   ]
  },
  {
   "cell_type": "code",
   "execution_count": 39,
   "id": "07ce6cd1",
   "metadata": {},
   "outputs": [
    {
     "name": "stdout",
     "output_type": "stream",
     "text": [
      "\n",
      "\n"
     ]
    }
   ],
   "source": [
    "url = 'https://www.f1fantasytracker.com/prices.html'  # replace with the URL of the website you want to scrape\n",
    "response = requests.get(url)\n",
    "soup = BeautifulSoup(response.content, 'html.parser')\n",
    "\n",
    "current_price = soup.find('span', {'id': 'CurrentPrice1'}).text\n",
    "season_price = soup.find('span', {'id': 'SeasonPrice1'}).text\n",
    "\n",
    "print(current_price)\n",
    "print(season_price)"
   ]
  },
  {
   "attachments": {},
   "cell_type": "markdown",
   "id": "2a459bf9-b94e-4e4c-8d55-04e1f220b5dd",
   "metadata": {},
   "source": [
    "# Save Data into CSV files"
   ]
  },
  {
   "cell_type": "code",
   "execution_count": null,
   "id": "8db6afe3-c642-4446-8e30-d1de3b1c5a2a",
   "metadata": {},
   "outputs": [],
   "source": [
    "\n",
    "# const parameters for api requests\n",
    "season = 2023\n",
    "session_type = 'R'\n",
    "\n",
    "event_number = 0\n",
    "\n",
    "with open('loaded_races_log.txt', 'a+') as log_file:\n",
    "\tfor lines in log_file.readlines():\n",
    "\t\t"
   ]
  },
  {
   "cell_type": "code",
   "execution_count": null,
   "id": "221b5b9f-2006-439a-b650-385303cc7d76",
   "metadata": {},
   "outputs": [],
   "source": [
    "results_list = [session.results for session in ]\n",
    "save_df_list_to_csv(results_list)\n",
    "print(results_list)"
   ]
  },
  {
   "attachments": {},
   "cell_type": "markdown",
   "id": "0bce7641",
   "metadata": {},
   "source": [
    "# MySQL f1stats"
   ]
  },
  {
   "attachments": {},
   "cell_type": "markdown",
   "id": "63f5bd37",
   "metadata": {},
   "source": [
    "### Connect to Database"
   ]
  },
  {
   "attachments": {},
   "cell_type": "markdown",
   "id": "9db12880",
   "metadata": {},
   "source": [
    "###### Create a 'private_config.json' file, and add the details of your database there."
   ]
  },
  {
   "cell_type": "code",
   "execution_count": 42,
   "id": "2a605f22-15bc-4345-8a58-a288a969d5c8",
   "metadata": {},
   "outputs": [],
   "source": [
    "with open('private_config.json', 'r') as file:\n",
    "\tconfig_data = json.load(file)\n",
    "\n",
    "\n",
    "mydb = mysql.connector.connect(\n",
    "  host=config_data['db_host'],\n",
    "  user=config_data['db_user'],\n",
    "  password=config_data['db_password'],\n",
    "  database=config_data['db_database']\n",
    ")\n",
    "\n",
    "mycursor = mydb.cursor()"
   ]
  },
  {
   "attachments": {},
   "cell_type": "markdown",
   "id": "dec05600",
   "metadata": {},
   "source": [
    "### Load data into Database"
   ]
  },
  {
   "cell_type": "code",
   "execution_count": null,
   "id": "3615eda9",
   "metadata": {},
   "outputs": [],
   "source": []
  },
  {
   "cell_type": "code",
   "execution_count": null,
   "id": "187800a1",
   "metadata": {},
   "outputs": [],
   "source": []
  }
 ],
 "metadata": {
  "kernelspec": {
   "display_name": "Python 3 (ipykernel)",
   "language": "python",
   "name": "python3"
  },
  "language_info": {
   "codemirror_mode": {
    "name": "ipython",
    "version": 3
   },
   "file_extension": ".py",
   "mimetype": "text/x-python",
   "name": "python",
   "nbconvert_exporter": "python",
   "pygments_lexer": "ipython3",
   "version": "3.10.9"
  }
 },
 "nbformat": 4,
 "nbformat_minor": 5
}
